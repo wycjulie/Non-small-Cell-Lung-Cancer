{
 "cells": [
  {
   "cell_type": "code",
   "execution_count": 1,
   "metadata": {},
   "outputs": [],
   "source": [
    "import pandas as pd\n",
    "import numpy as np\n",
    "import seaborn as sns\n",
    "from sklearn.model_selection import train_test_split\n",
    "from sklearn.feature_selection import RFECV\n",
    "from sklearn.preprocessing import OneHotEncoder\n",
    "from sklearn.model_selection import StratifiedKFold, KFold, cross_val_score, cross_validate, GridSearchCV\n",
    "from sklearn.tree import DecisionTreeClassifier\n",
    "from sklearn.ensemble import AdaBoostClassifier\n",
    "from sklearn.metrics import accuracy_score, recall_score, confusion_matrix, classification_report , roc_auc_score, auc, roc_curve\n",
    "from imblearn.combine import SMOTEENN\n",
    "from imblearn.pipeline import Pipeline\n",
    "from matplotlib import pyplot as plt"
   ]
  },
  {
   "cell_type": "markdown",
   "metadata": {},
   "source": [
    "## **資料來源**\n",
    "* 美國癌症登記資料庫(Surveillance, Epidemiology, and End Results Program, SEER)，自西元1973至2014年間的呼吸道相關癌症病例。本研究採用的資料範圍為2004年至2014年之非小細胞肺癌資料。\n",
    "* 包含以下四個資料集，追蹤截止日期為2016年12月31日:\n",
    "    * yr1973_2014.seer9  \n",
    "    包含自1973年至2014年，亞特蘭大、康乃狄克州、底特律、夏威夷州、愛荷華州、新墨西哥州、奧克蘭、西雅圖-普吉特海灣與猶他州以上九個SEER登記處的資料。\n",
    "    * yr1992_2014.sj_la_rg_ak  \n",
    "    包含自1992年至2014年，蒙特雷、洛杉磯、喬治亞州與阿拉斯加原住民SEER登記處的資料。\n",
    "    * yr2000_2014.ca_ky_lo_nj_gaS  \n",
    "    包含自2000年至2014年，加利福尼亞州、肯塔基州、路易斯安那州、紐澤西州與喬治亞州SEER登記處的資料。\n",
    "    * yr2005.lo_2nd_half  \n",
    "    包含自2005年7月至12月路易斯安那州的診斷資料，因Katrina颱風在這六個月的期間對路易斯安那州的人口產生了很大的影響，大多數的SEER報告未分析在這六個月間路易斯安那州的診斷資料，因此將此資料集在本研究中排除。\n",
    "* 資料範圍:  \n",
    "    本研究採用前三個資料集 yr1973_2014.seer9、yr1992_2014.sj_la_rg_ak、yr2000_2014.ca_ky_lo_nj_ga 呼吸道相關癌症病例中的非小細胞肺癌資料。"
   ]
  },
  {
   "cell_type": "markdown",
   "metadata": {},
   "source": [
    "## **資料合併與年份篩選**\n",
    "* 許多欄位適用於2004(含)年以後的資料，因此本研究採用診斷年份介於2004年至2014之數據，共606615筆資料\n",
    "* 採用資料範圍:  \n",
    "    SEER資料庫提供的2004年至2014年的非小細胞肺癌資料。將本研究採用的三個資料集 yr1973_2014.seer9、r1992_2014.sj_la_rg_ak、yr2000_2014.ca_ky_lo_nj_ga 合併，並且篩選出2004年至2014年的資料"
   ]
  },
  {
   "cell_type": "code",
   "execution_count": 2,
   "metadata": {},
   "outputs": [],
   "source": [
    "data = []\n",
    "path = ['data/yr1973_2014.seer9/RESPIR.TXT', 'data/yr1992_2014.sj_la_rg_ak/RESPIR.TXT', 'data/yr2000_2014.ca_ky_lo_nj_ga/RESPIR.TXT']\n",
    "\n",
    "def load_data(path):\n",
    "    \"\"\"Load datasets and filter out entries with 'Year of diagnosis' < 2004\"\"\"\n",
    "    with open(path) as f:\n",
    "        for line in f:\n",
    "            if int(line[38:42]) < 2004:\n",
    "                continue\n",
    "            else:\n",
    "                data.append(line.rstrip())\n",
    "for p in path:\n",
    "    load_data(p)"
   ]
  },
  {
   "cell_type": "markdown",
   "metadata": {},
   "source": [
    "每筆資料由一串數字與空白鍵組成，如下:"
   ]
  },
  {
   "cell_type": "code",
   "execution_count": 3,
   "metadata": {},
   "outputs": [
    {
     "data": {
      "text/plain": [
       "'070000490000001502201 020821923   02032006C34118041380413311        9796                       99921060000999               98820300053771  0102000205500205200000   1         01             217     220301623C341      1161003 01980631104        009009    220302203040735999910019947                   00001                                   99     8          0200'"
      ]
     },
     "execution_count": 3,
     "metadata": {},
     "output_type": "execute_result"
    }
   ],
   "source": [
    "data[0]"
   ]
  },
  {
   "cell_type": "markdown",
   "metadata": {},
   "source": [
    "## **欄位分割**\n",
    "* 依說明文件將資料依position作欄位切割，共133個欄位\n",
    "* 將資料轉成dataframe\n",
    "* 空白字串為missing value，以NAN取代\n",
    "* shape of dataframe: (606615, 133)"
   ]
  },
  {
   "cell_type": "code",
   "execution_count": 4,
   "metadata": {},
   "outputs": [],
   "source": [
    "cutpoint = [(1, 8), (9, 18), (19, 19), (20, 21), (23, 23), (24, 24), (25, 27), (28, 31), (35, 36), (37, 38), (39, 42), (43, 46), (47, 47),\n",
    "            (48, 51), (52, 52), (53, 56), (57, 57), (58, 58), (59, 59), (60, 60), (61, 63), (64, 65), (66, 67), (68, 68), (69, 70), (71, 72),\n",
    "            (73, 85), (86, 87), (88, 91), (92, 92), (93, 93), (94, 94), (95, 95), (96, 98), (99, 101), (102, 104), (105, 106), (107, 109),\n",
    "            (110, 112), (113, 115), (116, 118), (119, 121), (122, 124), (125, 127), (128, 129), (130, 131), (132, 133), (134, 135), (136, 136),\n",
    "            (137, 137), (138, 138), (141, 146), (147, 152), (153, 158), (159, 160), (161, 161), (162, 162), (163, 164), (166, 166), (170, 171),\n",
    "            (174, 174), (175, 175), (176, 177), (191, 191), (192, 193), (199, 203), (204, 207), (208, 211), (218, 220), (221, 223), (224, 224),\n",
    "            (226, 227), (228, 229), (230, 232), (233, 233), (234, 234), (235, 235), (236, 236), (237, 238), (239, 240), (241, 241), (242, 242),\n",
    "            (245, 245), (246, 250), (255, 259), (260, 264), (265, 265), (266, 266), (267, 267), (268, 269), (270, 271), (272, 272), (273, 273),\n",
    "            (274, 274), (275, 275), (276, 276), (277, 277), (278, 278), (279, 279), (280, 281), (282, 284), (285, 287), (288, 290), (291, 293),\n",
    "            (294, 296), (297, 299), (300, 300), (301, 304), (305, 305), (311, 311), (312, 314), (315, 317), (318, 320), (321, 323), (324, 325),\n",
    "            (326, 327), (328, 329), (330, 331), (332, 334), (335, 337), (338, 340), (341, 341), (342, 342), (348, 348), (349, 349), (350, 350),\n",
    "            (351, 351), (352, 352), (353, 353), (355, 355), (357, 357), (359, 360), (361, 362)]"
   ]
  },
  {
   "cell_type": "code",
   "execution_count": 5,
   "metadata": {
    "jupyter": {
     "source_hidden": true
    }
   },
   "outputs": [],
   "source": [
    "labels=['Patient ID number', 'Registry ID', 'Marital Status at DX', 'Race/Ethnicity', 'NHIA Derived Hispanic Origin', 'Sex', 'Age at diagnosis',\n",
    "        'Year of Birth', 'Sequence Number—Central', 'Month of diagnosis', 'Year of diagnosis', 'Primary Site', 'Laterality',\n",
    "        'Histology (92-00) ICD-O-2', 'Behavior (92-00) ICD-O-2', 'Histologic Type ICD-O-3', 'Behavior Code ICD-O-3', 'Grade',\n",
    "        'Diagnostic Confirmation', 'Type of Reporting Source', 'EOD—Tumor Size', 'EOD—Extension', 'EOD—Extension Prost Path',\n",
    "        'EOD—Lymph Node Involv', 'Regional Nodes Positive', 'Regional Nodes Examined', 'EOD—Old 13 Digit', 'EOD—Old 2 Digit',\n",
    "        'EOD—Old 4 Digit', 'Coding System for EOD', 'Tumor Marker 1', 'Tumor Marker 2', 'Tumor Marker 3', 'CS Tumor Size', 'CS Extension',\n",
    "        'CS Lymph Nodes', 'CS Mets at Dx', 'CS Site-Specific Factor 1', 'CS Site-Specific Factor 2', 'CS Site-Specific Factor 3',\n",
    "        'CS Site-Specific Factor 4', 'CS Site-Specific Factor 5', 'CS Site-Specific Factor 6', 'CS Site-Specific Factor 25', 'Derived AJCC T',\n",
    "        'Derived AJCC N', 'Derived AJCC M', 'Derived AJCC Stage Group', 'Derived SS1977', 'Derived SS2000', 'Derived AJCC—Flag',\n",
    "        'CS Version Input Original', 'CS Version Derived', 'CS Version Input Current', 'RX Summ—Surg Prim Site', 'RX Summ—Scope Reg LN Sur',\n",
    "        'RX Summ—Surg Oth Reg/Dis', 'RX Summ—Reg LN Examined', 'Reason for no surgery', 'RX Summ—Surgery Type', 'RX Summ—Scope Reg 98-02',\n",
    "        'RX Summ—Surg Oth 98-02', 'SEER Record Number', 'SEER Type of Follow-up', 'Age Recode <1 Year olds', 'Site Recode ICD-O-3/WHO 2008',\n",
    "        'Recode ICD-O-2 to 9', 'Recode ICD-O-2 to 10', 'ICCC site recode ICD-O-3/WHO 2008', 'ICCC site rec extended ICD-O-3/WHO 2008',\n",
    "        'Behavior Recode for Analysis', 'Histology Recode—Broad Groupings', 'Histology Recode—Brain Groupings', 'CS Schema v0204+',\n",
    "        'Race recode (White, Black, Other)', 'Race recode (W, B, AI, API)', 'Origin recode NHIA (Hispanic, NonHisp)', 'SEER historic stage A',\n",
    "        'AJCC stage 3rd edition (1988-2003)', 'SEER modified AJCC Stage 3rd ed (1988-2003)',  'SEER Summary Stage 1977 (1995-2000)',\n",
    "        'SEER Summary Stage 2000 (2001-2003) ', 'First malignant primary indicator', 'State-county recode', 'Cause of Death to SEER site recode',\n",
    "        'COD to site rec KM', 'Vital Status recode', 'IHS Link', 'Summary stage 2000 (1998+)', 'AYA site recode/WHO 2008',\n",
    "        'Lymphoma subtype recode/WHO 2008', 'SEER Cause-Specific Death Classification', 'SEER Other Cause of Death Classification',\n",
    "        'CS Tumor Size/Ext Eval', 'CS Lymph Nodes Eval', 'CS Mets Eval', 'Primary by international rules', 'ER Status Recode Breast Cancer (1990+)',\n",
    "        'PR Status Recode Breast Cancer (1990+)', 'CS Schema -AJCC 6th ed (previously called v1)', 'CS Site-Specific Factor 8',\n",
    "        'CS Site-Specific Factor 10', 'CS Site-Specific Factor 11', 'CS Site-Specific Factor 13', 'CS Site-Specific Factor 15',\n",
    "        'CS Site-Specific Factor 16', 'Lymph vascular invasion', 'Survival months', 'Survival months flag', 'Insurance recode (2007+)', 'Derived AJCC-7 T',\n",
    "        'Derived AJCC-7 N', 'Derived AJCC-7 M', 'Derived AJCC-7 Stage Grp', 'Breast Adjusted AJCC 6th T (1988+)', 'Breast Adjusted AJCC 6th N (1988+)',\n",
    "        'Breast Adjusted AJCC 6th M (1988+)', 'Breast Adjusted AJCC 6th Stage (1988+)', 'CS Site-Specific Factor 7', 'CS Site-Specific Factor 9',\n",
    "        'CS Site-Specific Factor 12', 'Derived HER2 Recode (2010+)', 'Breast Subtype (2010+)', 'Lymphomas: Ann Arbor Staging (1983+)',\n",
    "        'CS Mets at Dx-Bone', 'CS Mets at Dx-Brain', 'CS Mets at Dx-Liver', 'CS Mets at Dx-Lung', 'T value - based on AJCC 3rd (1988-2003)',\n",
    "        'N value - based on AJCC 3rd (1988-2003)', 'M value - based on AJCC 3rd (1988-2003)', 'Total Number of In Situ/malignant Tumors for Patient',\n",
    "        'Total Number of Benign/Borderline Tumors for Patient']"
   ]
  },
  {
   "cell_type": "code",
   "execution_count": 6,
   "metadata": {},
   "outputs": [],
   "source": [
    "def split(entry):\n",
    "    return [entry[i-1:j] for i, j in cutpoint]\n",
    "\n",
    "splited_data = list(map(split, data))\n",
    "df = pd.DataFrame(splited_data, columns = labels)"
   ]
  },
  {
   "cell_type": "code",
   "execution_count": 7,
   "metadata": {},
   "outputs": [
    {
     "data": {
      "text/html": [
       "<div>\n",
       "<style scoped>\n",
       "    .dataframe tbody tr th:only-of-type {\n",
       "        vertical-align: middle;\n",
       "    }\n",
       "\n",
       "    .dataframe tbody tr th {\n",
       "        vertical-align: top;\n",
       "    }\n",
       "\n",
       "    .dataframe thead th {\n",
       "        text-align: right;\n",
       "    }\n",
       "</style>\n",
       "<table border=\"1\" class=\"dataframe\">\n",
       "  <thead>\n",
       "    <tr style=\"text-align: right;\">\n",
       "      <th></th>\n",
       "      <th>Patient ID number</th>\n",
       "      <th>Registry ID</th>\n",
       "      <th>Marital Status at DX</th>\n",
       "      <th>Race/Ethnicity</th>\n",
       "      <th>NHIA Derived Hispanic Origin</th>\n",
       "      <th>Sex</th>\n",
       "      <th>Age at diagnosis</th>\n",
       "      <th>Year of Birth</th>\n",
       "      <th>Sequence Number—Central</th>\n",
       "      <th>Month of diagnosis</th>\n",
       "      <th>...</th>\n",
       "      <th>Lymphomas: Ann Arbor Staging (1983+)</th>\n",
       "      <th>CS Mets at Dx-Bone</th>\n",
       "      <th>CS Mets at Dx-Brain</th>\n",
       "      <th>CS Mets at Dx-Liver</th>\n",
       "      <th>CS Mets at Dx-Lung</th>\n",
       "      <th>T value - based on AJCC 3rd (1988-2003)</th>\n",
       "      <th>N value - based on AJCC 3rd (1988-2003)</th>\n",
       "      <th>M value - based on AJCC 3rd (1988-2003)</th>\n",
       "      <th>Total Number of In Situ/malignant Tumors for Patient</th>\n",
       "      <th>Total Number of Benign/Borderline Tumors for Patient</th>\n",
       "    </tr>\n",
       "  </thead>\n",
       "  <tbody>\n",
       "    <tr>\n",
       "      <th>0</th>\n",
       "      <td>07000049</td>\n",
       "      <td>0000001502</td>\n",
       "      <td>2</td>\n",
       "      <td>01</td>\n",
       "      <td>0</td>\n",
       "      <td>2</td>\n",
       "      <td>082</td>\n",
       "      <td>1923</td>\n",
       "      <td>02</td>\n",
       "      <td>03</td>\n",
       "      <td>...</td>\n",
       "      <td>8</td>\n",
       "      <td></td>\n",
       "      <td></td>\n",
       "      <td></td>\n",
       "      <td></td>\n",
       "      <td></td>\n",
       "      <td></td>\n",
       "      <td></td>\n",
       "      <td>02</td>\n",
       "      <td>00</td>\n",
       "    </tr>\n",
       "    <tr>\n",
       "      <th>1</th>\n",
       "      <td>07000061</td>\n",
       "      <td>0000001502</td>\n",
       "      <td>5</td>\n",
       "      <td>01</td>\n",
       "      <td>0</td>\n",
       "      <td>1</td>\n",
       "      <td>083</td>\n",
       "      <td>1925</td>\n",
       "      <td>02</td>\n",
       "      <td>08</td>\n",
       "      <td>...</td>\n",
       "      <td>8</td>\n",
       "      <td></td>\n",
       "      <td></td>\n",
       "      <td></td>\n",
       "      <td></td>\n",
       "      <td></td>\n",
       "      <td></td>\n",
       "      <td></td>\n",
       "      <td>02</td>\n",
       "      <td>00</td>\n",
       "    </tr>\n",
       "    <tr>\n",
       "      <th>2</th>\n",
       "      <td>07000175</td>\n",
       "      <td>0000001502</td>\n",
       "      <td>2</td>\n",
       "      <td>01</td>\n",
       "      <td>0</td>\n",
       "      <td>1</td>\n",
       "      <td>085</td>\n",
       "      <td>1921</td>\n",
       "      <td>03</td>\n",
       "      <td>09</td>\n",
       "      <td>...</td>\n",
       "      <td>8</td>\n",
       "      <td></td>\n",
       "      <td></td>\n",
       "      <td></td>\n",
       "      <td></td>\n",
       "      <td></td>\n",
       "      <td></td>\n",
       "      <td></td>\n",
       "      <td>03</td>\n",
       "      <td>00</td>\n",
       "    </tr>\n",
       "    <tr>\n",
       "      <th>3</th>\n",
       "      <td>07000291</td>\n",
       "      <td>0000001502</td>\n",
       "      <td>5</td>\n",
       "      <td>01</td>\n",
       "      <td>0</td>\n",
       "      <td>2</td>\n",
       "      <td>084</td>\n",
       "      <td>1929</td>\n",
       "      <td>02</td>\n",
       "      <td>08</td>\n",
       "      <td>...</td>\n",
       "      <td>8</td>\n",
       "      <td>1</td>\n",
       "      <td>0</td>\n",
       "      <td>0</td>\n",
       "      <td>0</td>\n",
       "      <td></td>\n",
       "      <td></td>\n",
       "      <td></td>\n",
       "      <td>02</td>\n",
       "      <td>00</td>\n",
       "    </tr>\n",
       "    <tr>\n",
       "      <th>4</th>\n",
       "      <td>07000428</td>\n",
       "      <td>0000001502</td>\n",
       "      <td>2</td>\n",
       "      <td>01</td>\n",
       "      <td>0</td>\n",
       "      <td>1</td>\n",
       "      <td>077</td>\n",
       "      <td>1931</td>\n",
       "      <td>04</td>\n",
       "      <td>12</td>\n",
       "      <td>...</td>\n",
       "      <td>8</td>\n",
       "      <td></td>\n",
       "      <td></td>\n",
       "      <td></td>\n",
       "      <td></td>\n",
       "      <td></td>\n",
       "      <td></td>\n",
       "      <td></td>\n",
       "      <td>04</td>\n",
       "      <td>00</td>\n",
       "    </tr>\n",
       "  </tbody>\n",
       "</table>\n",
       "<p>5 rows × 133 columns</p>\n",
       "</div>"
      ],
      "text/plain": [
       "  Patient ID number Registry ID Marital Status at DX Race/Ethnicity  \\\n",
       "0          07000049  0000001502                    2             01   \n",
       "1          07000061  0000001502                    5             01   \n",
       "2          07000175  0000001502                    2             01   \n",
       "3          07000291  0000001502                    5             01   \n",
       "4          07000428  0000001502                    2             01   \n",
       "\n",
       "  NHIA Derived Hispanic Origin Sex Age at diagnosis Year of Birth  \\\n",
       "0                            0   2              082          1923   \n",
       "1                            0   1              083          1925   \n",
       "2                            0   1              085          1921   \n",
       "3                            0   2              084          1929   \n",
       "4                            0   1              077          1931   \n",
       "\n",
       "  Sequence Number—Central Month of diagnosis  ...  \\\n",
       "0                      02                 03  ...   \n",
       "1                      02                 08  ...   \n",
       "2                      03                 09  ...   \n",
       "3                      02                 08  ...   \n",
       "4                      04                 12  ...   \n",
       "\n",
       "  Lymphomas: Ann Arbor Staging (1983+) CS Mets at Dx-Bone CS Mets at Dx-Brain  \\\n",
       "0                                    8                                          \n",
       "1                                    8                                          \n",
       "2                                    8                                          \n",
       "3                                    8                  1                   0   \n",
       "4                                    8                                          \n",
       "\n",
       "  CS Mets at Dx-Liver CS Mets at Dx-Lung  \\\n",
       "0                                          \n",
       "1                                          \n",
       "2                                          \n",
       "3                   0                  0   \n",
       "4                                          \n",
       "\n",
       "  T value - based on AJCC 3rd (1988-2003)  \\\n",
       "0                                           \n",
       "1                                           \n",
       "2                                           \n",
       "3                                           \n",
       "4                                           \n",
       "\n",
       "  N value - based on AJCC 3rd (1988-2003)  \\\n",
       "0                                           \n",
       "1                                           \n",
       "2                                           \n",
       "3                                           \n",
       "4                                           \n",
       "\n",
       "  M value - based on AJCC 3rd (1988-2003)  \\\n",
       "0                                           \n",
       "1                                           \n",
       "2                                           \n",
       "3                                           \n",
       "4                                           \n",
       "\n",
       "  Total Number of In Situ/malignant Tumors for Patient  \\\n",
       "0                                                 02     \n",
       "1                                                 02     \n",
       "2                                                 03     \n",
       "3                                                 02     \n",
       "4                                                 04     \n",
       "\n",
       "  Total Number of Benign/Borderline Tumors for Patient  \n",
       "0                                                 00    \n",
       "1                                                 00    \n",
       "2                                                 00    \n",
       "3                                                 00    \n",
       "4                                                 00    \n",
       "\n",
       "[5 rows x 133 columns]"
      ]
     },
     "execution_count": 7,
     "metadata": {},
     "output_type": "execute_result"
    }
   ],
   "source": [
    "df.head()"
   ]
  },
  {
   "cell_type": "code",
   "execution_count": 8,
   "metadata": {},
   "outputs": [
    {
     "data": {
      "text/html": [
       "<div>\n",
       "<style scoped>\n",
       "    .dataframe tbody tr th:only-of-type {\n",
       "        vertical-align: middle;\n",
       "    }\n",
       "\n",
       "    .dataframe tbody tr th {\n",
       "        vertical-align: top;\n",
       "    }\n",
       "\n",
       "    .dataframe thead th {\n",
       "        text-align: right;\n",
       "    }\n",
       "</style>\n",
       "<table border=\"1\" class=\"dataframe\">\n",
       "  <thead>\n",
       "    <tr style=\"text-align: right;\">\n",
       "      <th></th>\n",
       "      <th>Patient ID number</th>\n",
       "      <th>Registry ID</th>\n",
       "      <th>Marital Status at DX</th>\n",
       "      <th>Race/Ethnicity</th>\n",
       "      <th>NHIA Derived Hispanic Origin</th>\n",
       "      <th>Sex</th>\n",
       "      <th>Age at diagnosis</th>\n",
       "      <th>Year of Birth</th>\n",
       "      <th>Sequence Number—Central</th>\n",
       "      <th>Month of diagnosis</th>\n",
       "      <th>...</th>\n",
       "      <th>Lymphomas: Ann Arbor Staging (1983+)</th>\n",
       "      <th>CS Mets at Dx-Bone</th>\n",
       "      <th>CS Mets at Dx-Brain</th>\n",
       "      <th>CS Mets at Dx-Liver</th>\n",
       "      <th>CS Mets at Dx-Lung</th>\n",
       "      <th>T value - based on AJCC 3rd (1988-2003)</th>\n",
       "      <th>N value - based on AJCC 3rd (1988-2003)</th>\n",
       "      <th>M value - based on AJCC 3rd (1988-2003)</th>\n",
       "      <th>Total Number of In Situ/malignant Tumors for Patient</th>\n",
       "      <th>Total Number of Benign/Borderline Tumors for Patient</th>\n",
       "    </tr>\n",
       "  </thead>\n",
       "  <tbody>\n",
       "    <tr>\n",
       "      <th>0</th>\n",
       "      <td>7000049</td>\n",
       "      <td>1502</td>\n",
       "      <td>2</td>\n",
       "      <td>1</td>\n",
       "      <td>0</td>\n",
       "      <td>2</td>\n",
       "      <td>82</td>\n",
       "      <td>1923.0</td>\n",
       "      <td>2</td>\n",
       "      <td>3</td>\n",
       "      <td>...</td>\n",
       "      <td>8</td>\n",
       "      <td>NaN</td>\n",
       "      <td>NaN</td>\n",
       "      <td>NaN</td>\n",
       "      <td>NaN</td>\n",
       "      <td>NaN</td>\n",
       "      <td>NaN</td>\n",
       "      <td>NaN</td>\n",
       "      <td>2</td>\n",
       "      <td>0</td>\n",
       "    </tr>\n",
       "    <tr>\n",
       "      <th>1</th>\n",
       "      <td>7000061</td>\n",
       "      <td>1502</td>\n",
       "      <td>5</td>\n",
       "      <td>1</td>\n",
       "      <td>0</td>\n",
       "      <td>1</td>\n",
       "      <td>83</td>\n",
       "      <td>1925.0</td>\n",
       "      <td>2</td>\n",
       "      <td>8</td>\n",
       "      <td>...</td>\n",
       "      <td>8</td>\n",
       "      <td>NaN</td>\n",
       "      <td>NaN</td>\n",
       "      <td>NaN</td>\n",
       "      <td>NaN</td>\n",
       "      <td>NaN</td>\n",
       "      <td>NaN</td>\n",
       "      <td>NaN</td>\n",
       "      <td>2</td>\n",
       "      <td>0</td>\n",
       "    </tr>\n",
       "    <tr>\n",
       "      <th>2</th>\n",
       "      <td>7000175</td>\n",
       "      <td>1502</td>\n",
       "      <td>2</td>\n",
       "      <td>1</td>\n",
       "      <td>0</td>\n",
       "      <td>1</td>\n",
       "      <td>85</td>\n",
       "      <td>1921.0</td>\n",
       "      <td>3</td>\n",
       "      <td>9</td>\n",
       "      <td>...</td>\n",
       "      <td>8</td>\n",
       "      <td>NaN</td>\n",
       "      <td>NaN</td>\n",
       "      <td>NaN</td>\n",
       "      <td>NaN</td>\n",
       "      <td>NaN</td>\n",
       "      <td>NaN</td>\n",
       "      <td>NaN</td>\n",
       "      <td>3</td>\n",
       "      <td>0</td>\n",
       "    </tr>\n",
       "    <tr>\n",
       "      <th>3</th>\n",
       "      <td>7000291</td>\n",
       "      <td>1502</td>\n",
       "      <td>5</td>\n",
       "      <td>1</td>\n",
       "      <td>0</td>\n",
       "      <td>2</td>\n",
       "      <td>84</td>\n",
       "      <td>1929.0</td>\n",
       "      <td>2</td>\n",
       "      <td>8</td>\n",
       "      <td>...</td>\n",
       "      <td>8</td>\n",
       "      <td>1.0</td>\n",
       "      <td>0.0</td>\n",
       "      <td>0.0</td>\n",
       "      <td>0.0</td>\n",
       "      <td>NaN</td>\n",
       "      <td>NaN</td>\n",
       "      <td>NaN</td>\n",
       "      <td>2</td>\n",
       "      <td>0</td>\n",
       "    </tr>\n",
       "    <tr>\n",
       "      <th>4</th>\n",
       "      <td>7000428</td>\n",
       "      <td>1502</td>\n",
       "      <td>2</td>\n",
       "      <td>1</td>\n",
       "      <td>0</td>\n",
       "      <td>1</td>\n",
       "      <td>77</td>\n",
       "      <td>1931.0</td>\n",
       "      <td>4</td>\n",
       "      <td>12</td>\n",
       "      <td>...</td>\n",
       "      <td>8</td>\n",
       "      <td>NaN</td>\n",
       "      <td>NaN</td>\n",
       "      <td>NaN</td>\n",
       "      <td>NaN</td>\n",
       "      <td>NaN</td>\n",
       "      <td>NaN</td>\n",
       "      <td>NaN</td>\n",
       "      <td>4</td>\n",
       "      <td>0</td>\n",
       "    </tr>\n",
       "  </tbody>\n",
       "</table>\n",
       "<p>5 rows × 133 columns</p>\n",
       "</div>"
      ],
      "text/plain": [
       "   Patient ID number  Registry ID  Marital Status at DX  Race/Ethnicity  \\\n",
       "0            7000049         1502                     2               1   \n",
       "1            7000061         1502                     5               1   \n",
       "2            7000175         1502                     2               1   \n",
       "3            7000291         1502                     5               1   \n",
       "4            7000428         1502                     2               1   \n",
       "\n",
       "   NHIA Derived Hispanic Origin  Sex  Age at diagnosis  Year of Birth  \\\n",
       "0                             0    2                82         1923.0   \n",
       "1                             0    1                83         1925.0   \n",
       "2                             0    1                85         1921.0   \n",
       "3                             0    2                84         1929.0   \n",
       "4                             0    1                77         1931.0   \n",
       "\n",
       "   Sequence Number—Central  Month of diagnosis  ...  \\\n",
       "0                        2                   3  ...   \n",
       "1                        2                   8  ...   \n",
       "2                        3                   9  ...   \n",
       "3                        2                   8  ...   \n",
       "4                        4                  12  ...   \n",
       "\n",
       "   Lymphomas: Ann Arbor Staging (1983+) CS Mets at Dx-Bone  \\\n",
       "0                                     8                NaN   \n",
       "1                                     8                NaN   \n",
       "2                                     8                NaN   \n",
       "3                                     8                1.0   \n",
       "4                                     8                NaN   \n",
       "\n",
       "   CS Mets at Dx-Brain  CS Mets at Dx-Liver  CS Mets at Dx-Lung  \\\n",
       "0                  NaN                  NaN                 NaN   \n",
       "1                  NaN                  NaN                 NaN   \n",
       "2                  NaN                  NaN                 NaN   \n",
       "3                  0.0                  0.0                 0.0   \n",
       "4                  NaN                  NaN                 NaN   \n",
       "\n",
       "   T value - based on AJCC 3rd (1988-2003)  \\\n",
       "0                                      NaN   \n",
       "1                                      NaN   \n",
       "2                                      NaN   \n",
       "3                                      NaN   \n",
       "4                                      NaN   \n",
       "\n",
       "   N value - based on AJCC 3rd (1988-2003)  \\\n",
       "0                                      NaN   \n",
       "1                                      NaN   \n",
       "2                                      NaN   \n",
       "3                                      NaN   \n",
       "4                                      NaN   \n",
       "\n",
       "   M value - based on AJCC 3rd (1988-2003)  \\\n",
       "0                                      NaN   \n",
       "1                                      NaN   \n",
       "2                                      NaN   \n",
       "3                                      NaN   \n",
       "4                                      NaN   \n",
       "\n",
       "   Total Number of In Situ/malignant Tumors for Patient  \\\n",
       "0                                                  2      \n",
       "1                                                  2      \n",
       "2                                                  3      \n",
       "3                                                  2      \n",
       "4                                                  4      \n",
       "\n",
       "   Total Number of Benign/Borderline Tumors for Patient  \n",
       "0                                                  0     \n",
       "1                                                  0     \n",
       "2                                                  0     \n",
       "3                                                  0     \n",
       "4                                                  0     \n",
       "\n",
       "[5 rows x 133 columns]"
      ]
     },
     "execution_count": 8,
     "metadata": {},
     "output_type": "execute_result"
    }
   ],
   "source": [
    "# Replace values that is entirely spaces with NAN.\n",
    "# Convert dataset to integer.\n",
    "df = df.replace(r'^\\s*$', np.nan, regex=True)\n",
    "df = df.apply(pd.to_numeric, downcast='integer', errors='ignore')\n",
    "df.head()"
   ]
  },
  {
   "cell_type": "code",
   "execution_count": 9,
   "metadata": {},
   "outputs": [
    {
     "name": "stdout",
     "output_type": "stream",
     "text": [
      "Shape of data: (606615, 133)\n",
      "\n",
      "Info of data:\n",
      "<class 'pandas.core.frame.DataFrame'>\n",
      "RangeIndex: 606615 entries, 0 to 606614\n",
      "Columns: 133 entries, Patient ID number to Total Number of Benign/Borderline Tumors for Patient\n",
      "dtypes: float64(58), int16(18), int32(4), int8(51), object(2)\n",
      "memory usage: 337.3+ MB\n",
      "None\n",
      "\n",
      "There are 58 columns have missing valus:\n",
      "                                             Num of NAN  % of NAN\n",
      "M value - based on AJCC 3rd (1988-2003)          606615  1.000000\n",
      "CS Site-Specific Factor 15                       606615  1.000000\n",
      "SEER modified AJCC Stage 3rd ed (1988-2003)      606615  1.000000\n",
      "SEER Summary Stage 1977 (1995-2000)              606615  1.000000\n",
      "T value - based on AJCC 3rd (1988-2003)          606615  1.000000\n",
      "EOD—Tumor Size                                   606615  1.000000\n",
      "CS Site-Specific Factor 8                        606615  1.000000\n",
      "CS Site-Specific Factor 10                       606615  1.000000\n",
      "CS Site-Specific Factor 11                       606615  1.000000\n",
      "CS Site-Specific Factor 13                       606615  1.000000\n",
      "CS Site-Specific Factor 16                       606615  1.000000\n",
      "RX Summ—Surg Oth 98-02                           606615  1.000000\n",
      "Lymph vascular invasion                          606615  1.000000\n",
      "Breast Adjusted AJCC 6th T (1988+)               606615  1.000000\n",
      "Breast Adjusted AJCC 6th N (1988+)               606615  1.000000\n",
      "Breast Adjusted AJCC 6th M (1988+)               606615  1.000000\n",
      "Breast Adjusted AJCC 6th Stage (1988+)           606615  1.000000\n",
      "CS Site-Specific Factor 7                        606615  1.000000\n",
      "CS Site-Specific Factor 9                        606615  1.000000\n",
      "CS Site-Specific Factor 12                       606615  1.000000\n",
      "AJCC stage 3rd edition (1988-2003)               606615  1.000000\n",
      "SEER Summary Stage 2000 (2001-2003)              606615  1.000000\n",
      "Tumor Marker 2                                   606615  1.000000\n",
      "EOD—Lymph Node Involv                            606615  1.000000\n",
      "EOD—Old 4 Digit                                  606615  1.000000\n",
      "EOD—Old 2 Digit                                  606615  1.000000\n",
      "EOD—Old 13 Digit                                 606615  1.000000\n",
      "Tumor Marker 1                                   606615  1.000000\n",
      "RX Summ—Scope Reg 98-02                          606615  1.000000\n",
      "Tumor Marker 3                                   606615  1.000000\n",
      "N value - based on AJCC 3rd (1988-2003)          606615  1.000000\n",
      "Coding System for EOD                            606615  1.000000\n",
      "EOD—Extension Prost Path                         606615  1.000000\n",
      "EOD—Extension                                    606615  1.000000\n",
      "RX Summ—Reg LN Examined                          606615  1.000000\n",
      "RX Summ—Surgery Type                             606615  1.000000\n",
      "CS Site-Specific Factor 3                        564976  0.931358\n",
      "CS Site-Specific Factor 5                        564976  0.931358\n",
      "CS Site-Specific Factor 6                        564976  0.931358\n",
      "CS Site-Specific Factor 4                        564976  0.931358\n",
      "CS Site-Specific Factor 2                        349842  0.576712\n",
      "Derived AJCC-7 Stage Grp                         329790  0.543656\n",
      "CS Mets at Dx-Bone                               329790  0.543656\n",
      "CS Mets at Dx-Brain                              329790  0.543656\n",
      "Derived AJCC-7 M                                 329790  0.543656\n",
      "Derived AJCC-7 N                                 329790  0.543656\n",
      "Derived AJCC-7 T                                 329790  0.543656\n",
      "CS Mets at Dx-Lung                               329790  0.543656\n",
      "CS Mets at Dx-Liver                              329790  0.543656\n",
      "Insurance recode (2007+)                         161902  0.266894\n",
      "SEER historic stage A                             36572  0.060289\n",
      "CS Mets Eval                                      20104  0.033141\n",
      "CS Lymph Nodes Eval                               20095  0.033126\n",
      "CS Tumor Size/Ext Eval                            20088  0.033115\n",
      "Summary stage 2000 (1998+)                         8962  0.014774\n",
      "IHS Link                                            734  0.001210\n",
      "CS Site-Specific Factor 1                           590  0.000973\n",
      "Year of Birth                                        12  0.000020\n"
     ]
    }
   ],
   "source": [
    "def df_info(df):\n",
    "    '''Show shape, info, percentage of missing values in each column.'''\n",
    "    \n",
    "    print(f'Shape of data: {df.shape}\\n')\n",
    "    print('Info of data:')\n",
    "    print(df.info())\n",
    "    \n",
    "    nan_num = df.isnull().sum()\n",
    "    nan_df = pd.concat([nan_num, nan_num / df.shape[0]], axis = 1, keys = ['Num of NAN', '% of NAN'])\n",
    "    nan_df = nan_df.loc[nan_df['Num of NAN'] > 0].sort_values(by = ['Num of NAN'], ascending = False)\n",
    "    print(f'\\nThere are {nan_df.shape[0]} columns have missing valus:')\n",
    "    if not nan_df.empty:\n",
    "        print(nan_df)\n",
    "    \n",
    "df_info(df)"
   ]
  },
  {
   "cell_type": "markdown",
   "metadata": {},
   "source": [
    "## Primary Site(原發部位) & Histology(組織類型)\n",
    "選取非小細胞肺癌範圍的資料:\n",
    "* 選取依國際腫瘤(學)科疾病分類第三版(ICD-O-3)定義Primary site為肺部(編碼: C340-C343, C348, C349)的資料，共562878筆\n",
    "* 依組織類型(Histologic Type ICD-O-3)篩選出非小細胞肺癌(NSCLC)的資料，共452033筆\n",
    "* 欄位Histologic Type ICD-O-3共有101種category。取前四高的category(占82%)，其餘的合併成others"
   ]
  },
  {
   "cell_type": "code",
   "execution_count": 10,
   "metadata": {},
   "outputs": [
    {
     "data": {
      "text/plain": [
       "(562878, 133)"
      ]
     },
     "execution_count": 10,
     "metadata": {},
     "output_type": "execute_result"
    }
   ],
   "source": [
    "# Select data whose primary site is lung\n",
    "primary_site = ['C340','C341','C342','C343','C348','C349']\n",
    "df = df.loc[df['Primary Site'].isin(primary_site)]\n",
    "df.shape"
   ]
  },
  {
   "cell_type": "code",
   "execution_count": 11,
   "metadata": {},
   "outputs": [
    {
     "data": {
      "text/plain": [
       "(452033, 133)"
      ]
     },
     "execution_count": 11,
     "metadata": {},
     "output_type": "execute_result"
    }
   ],
   "source": [
    "# Select NSCLC data\n",
    "histology = [*range(8010, 8015 + 1), *range(8020, 8022 + 1), *range(8030, 8040 + 1),\n",
    "             8046, *range(8050, 8052 + 1), *range(8070, 8084 + 1), *range(8090, 8110 + 1),\n",
    "             *range(8120, 8131 + 1), *range(8140, 8156 + 1), *range(8160, 8162 + 1),\n",
    "             *range(8170, 8175 + 1), 8180, *range(8190, 8221 + 1), *range(8230, 8231 + 1),\n",
    "             *range(8240, 8263 + 1), *range(8270, 8280 + 1), *range(8290, 8337 + 1),\n",
    "             *range(8340, 8347 + 1), *range(8350, 8390 + 1), *range(8400, 8562 + 1),\n",
    "             *range(8570, 8576 + 1), *range(8580, 8671 + 1), *range(8940, 8941 + 1)]\n",
    "df = df.loc[df['Histologic Type ICD-O-3'].isin(histology)]\n",
    "df.shape"
   ]
  },
  {
   "cell_type": "code",
   "execution_count": 12,
   "metadata": {},
   "outputs": [
    {
     "name": "stdout",
     "output_type": "stream",
     "text": [
      "feature Histologic Type ICD-O-3 has 101 categories\n",
      "\n",
      "8140    176277\n",
      "8070     99959\n",
      "8046     64390\n",
      "8010     31996\n",
      "8250     10690\n",
      "         ...  \n",
      "8342         1\n",
      "8262         1\n",
      "8503         1\n",
      "8585         1\n",
      "8340         1\n",
      "Name: Histologic Type ICD-O-3, Length: 101, dtype: int64\n"
     ]
    }
   ],
   "source": [
    "print(f'feature Histologic Type ICD-O-3 has {df[\"Histologic Type ICD-O-3\"].nunique()} categories\\n')\n",
    "print(df['Histologic Type ICD-O-3'].value_counts())"
   ]
  },
  {
   "cell_type": "code",
   "execution_count": 13,
   "metadata": {},
   "outputs": [
    {
     "data": {
      "text/plain": [
       "0.8243247727488923"
      ]
     },
     "execution_count": 13,
     "metadata": {},
     "output_type": "execute_result"
    }
   ],
   "source": [
    "sum(df['Histologic Type ICD-O-3'].value_counts()[:4])/df.shape[0]"
   ]
  },
  {
   "cell_type": "code",
   "execution_count": 14,
   "metadata": {},
   "outputs": [],
   "source": [
    "df.loc[~df['Histologic Type ICD-O-3'].isin(df['Histologic Type ICD-O-3'].value_counts()[:4].index), 'Histologic Type ICD-O-3'] = 'others'"
   ]
  },
  {
   "cell_type": "markdown",
   "metadata": {},
   "source": [
    "## Survival months & Cause of death\n",
    "* Target為存活狀態(存活/死亡)，由survival months衍生而來。  \n",
    "以一年後存活狀態為例，survival months >= 12者視為存活(code = 1)，survival months < 12者視為死亡(code = 0)\n",
    "* 刪除survival months = 9999的資料。  \n",
    "9999代表unkown，為判別在一定時間後結果是存活/死亡，故將其刪除。\n",
    "* 排除死亡原因為癌症以外的資料\n",
    "* shape of dataframe: (415655, 132)"
   ]
  },
  {
   "cell_type": "code",
   "execution_count": 15,
   "metadata": {},
   "outputs": [],
   "source": [
    "# Remove data whose survival months is unknown\n",
    "df = df.loc[df['Survival months'] != 9999]"
   ]
  },
  {
   "cell_type": "code",
   "execution_count": 16,
   "metadata": {},
   "outputs": [
    {
     "data": {
      "text/plain": [
       "(415655, 132)"
      ]
     },
     "execution_count": 16,
     "metadata": {},
     "output_type": "execute_result"
    }
   ],
   "source": [
    "# Remove data whose cause of death is something other than cancer\n",
    "df = df.loc[df['SEER Other Cause of Death Classification'] != 1]\n",
    "df = df.drop(['SEER Other Cause of Death Classification'], axis=1)\n",
    "df.shape"
   ]
  },
  {
   "cell_type": "markdown",
   "metadata": {},
   "source": [
    "## **欄位篩選**\n",
    "SEER提供的133個欄位，大致可以分為以下幾類:\n",
    "* 人口學欄位(如性別、年齡)\n",
    "* 診斷欄位(如腫瘤部位、分級、腫瘤大小)\n",
    "* 治療欄位(如手術方式)\n",
    "* 結果欄位(如存活月數、死亡原因)\n",
    "* 重新編碼後另造的欄位\n",
    "\n",
    "欄位篩選過程如下:\n",
    "1. 刪除全為空值的欄位\n",
    "2. 刪除只有一種值的欄位\n",
    "3. 刪除不適用於 2004 至 2014 年的欄位\n",
    "4. 刪除可能表明患者存活狀態的欄位\n",
    "5. 刪除重覆性、重新編碼的欄位\n",
    "6. 刪除類別種類太多的欄位 \n",
    "\n",
    "篩選後剩29個欄位"
   ]
  },
  {
   "cell_type": "code",
   "execution_count": 17,
   "metadata": {},
   "outputs": [
    {
     "name": "stdout",
     "output_type": "stream",
     "text": [
      "Columns with all nan values: \n",
      "Index(['EOD—Tumor Size', 'EOD—Extension', 'EOD—Extension Prost Path',\n",
      "       'EOD—Lymph Node Involv', 'EOD—Old 13 Digit', 'EOD—Old 2 Digit',\n",
      "       'EOD—Old 4 Digit', 'Coding System for EOD', 'Tumor Marker 1',\n",
      "       'Tumor Marker 2', 'Tumor Marker 3', 'CS Site-Specific Factor 3',\n",
      "       'CS Site-Specific Factor 4', 'CS Site-Specific Factor 5',\n",
      "       'CS Site-Specific Factor 6', 'RX Summ—Reg LN Examined',\n",
      "       'RX Summ—Surgery Type', 'RX Summ—Scope Reg 98-02',\n",
      "       'RX Summ—Surg Oth 98-02', 'AJCC stage 3rd edition (1988-2003)',\n",
      "       'SEER modified AJCC Stage 3rd ed (1988-2003)',\n",
      "       'SEER Summary Stage 1977 (1995-2000)',\n",
      "       'SEER Summary Stage 2000 (2001-2003) ', 'CS Site-Specific Factor 8',\n",
      "       'CS Site-Specific Factor 10', 'CS Site-Specific Factor 11',\n",
      "       'CS Site-Specific Factor 13', 'CS Site-Specific Factor 15',\n",
      "       'CS Site-Specific Factor 16', 'Lymph vascular invasion',\n",
      "       'Breast Adjusted AJCC 6th T (1988+)',\n",
      "       'Breast Adjusted AJCC 6th N (1988+)',\n",
      "       'Breast Adjusted AJCC 6th M (1988+)',\n",
      "       'Breast Adjusted AJCC 6th Stage (1988+)', 'CS Site-Specific Factor 7',\n",
      "       'CS Site-Specific Factor 9', 'CS Site-Specific Factor 12',\n",
      "       'T value - based on AJCC 3rd (1988-2003)',\n",
      "       'N value - based on AJCC 3rd (1988-2003)',\n",
      "       'M value - based on AJCC 3rd (1988-2003)'],\n",
      "      dtype='object')\n"
     ]
    }
   ],
   "source": [
    "# Drop columns with all nan values\n",
    "print(f'Columns with all nan values: \\n{df.columns[df.isna().all()]}')\n",
    "df = df.dropna(how='all', axis=1)"
   ]
  },
  {
   "cell_type": "code",
   "execution_count": 18,
   "metadata": {},
   "outputs": [
    {
     "name": "stdout",
     "output_type": "stream",
     "text": [
      "Columns with only one distinct value:\n",
      " ['CS Site-Specific Factor 25', 'Derived AJCC—Flag', 'CS Version Derived', 'SEER Type of Follow-up', 'Site Recode ICD-O-3/WHO 2008', 'Histology Recode—Brain Groupings', 'CS Schema v0204+', 'Lymphoma subtype recode/WHO 2008', 'ER Status Recode Breast Cancer (1990+)', 'PR Status Recode Breast Cancer (1990+)', 'CS Schema -AJCC 6th ed (previously called v1)', 'Derived HER2 Recode (2010+)', 'Breast Subtype (2010+)', 'Lymphomas: Ann Arbor Staging (1983+)']\n"
     ]
    }
   ],
   "source": [
    "# Drop columns with only one distinct value(constant column)\n",
    "drop_list = list(df.loc[:, df.apply(pd.Series.nunique) == 1].columns)\n",
    "print(f'Columns with only one distinct value:\\n {drop_list}')\n",
    "df = df.drop(drop_list, axis = 1)"
   ]
  },
  {
   "cell_type": "code",
   "execution_count": 19,
   "metadata": {},
   "outputs": [],
   "source": [
    "# Remove columns that are not applicable between 2004-2014\n",
    "drop_list = ['Race/Ethnicity', 'Derived AJCC-7 T', 'Derived AJCC-7 N', 'Derived AJCC-7 M',\n",
    "             'Derived AJCC-7 Stage Grp','CS Site-Specific Factor 2', 'CS Mets at Dx-Bone',\n",
    "             'CS Mets at Dx-Brain', 'CS Mets at Dx-Liver', 'CS Mets at Dx-Lung']\n",
    "df = df.drop(drop_list, axis = 1)\n",
    "\n",
    "# Remove columns that directly or indirectly specify the outcome(alive/dead)\n",
    "drop_list = ['Type of Reporting Source', 'Vital Status recode',\n",
    "             'COD to site rec KM', 'Cause of Death to SEER site recode',\n",
    "             'SEER Cause-Specific Death Classification', 'RX Summ—Surg Oth Reg/Dis']\n",
    "df = df.drop(drop_list, axis = 1)\n",
    "\n",
    "# Remove Recode columns\n",
    "drop_list = ['ICCC site recode ICD-O-3/WHO 2008', 'ICCC site rec extended ICD-O-3/WHO 2008',\n",
    "             'AYA site recode/WHO 2008', 'CS Version Input Original', 'CS Version Input Current',\n",
    "             'CS Tumor Size/Ext Eval', 'CS Lymph Nodes Eval', 'CS Mets Eval',\n",
    "             'Recode ICD-O-2 to 9', 'Recode ICD-O-2 to 10', 'Age Recode <1 Year olds',\n",
    "             'Insurance recode (2007+)', 'Histology (92-00) ICD-O-2', 'Behavior (92-00) ICD-O-2',\n",
    "             'Survival months flag', 'Summary stage 2000 (1998+)',\n",
    "             'SEER historic stage A', 'IHS Link', 'Derived SS1977', 'Derived SS2000',\n",
    "             'Behavior Recode for Analysis', 'Race recode (White, Black, Other)',\n",
    "             'NHIA Derived Hispanic Origin', 'Histology Recode—Broad Groupings',\n",
    "             'Total Number of In Situ/malignant Tumors for Patient',\n",
    "             'Total Number of Benign/Borderline Tumors for Patient']\n",
    "df = df.drop(drop_list, axis = 1)\n",
    "\n",
    "# Remove columns that vary too much\n",
    "drop_list = ['State-county recode']\n",
    "df = df.drop(drop_list, axis = 1)\n",
    "\n",
    "# Remove others, irrelevant columns\n",
    "drop_list = ['Patient ID number', 'Registry ID', 'Year of Birth', 'Month of diagnosis', \n",
    "             'SEER Record Number', 'Primary by international rules']\n",
    "df = df.drop(drop_list, axis = 1)"
   ]
  },
  {
   "cell_type": "code",
   "execution_count": 20,
   "metadata": {},
   "outputs": [],
   "source": [
    "def cat_percent_plot(feature, data):\n",
    "    '''Plot countplot with percentage of each category.'''\n",
    "    total = data.shape[0]\n",
    "    ax = sns.countplot(x=feature, data=data)\n",
    "    for p in ax.patches:\n",
    "        percentage = '{:.2f}%'.format(100 * p.get_height()/total)\n",
    "        x = p.get_x()\n",
    "        y = p.get_height() + 0.02\n",
    "        ax.annotate(percentage, (x, y), size = 10)\n",
    "    plt.show()"
   ]
  },
  {
   "cell_type": "markdown",
   "metadata": {},
   "source": [
    "## **欄位描述**"
   ]
  },
  {
   "cell_type": "markdown",
   "metadata": {},
   "source": [
    " |Feature                                              |Description                                     |Type      \n",
    "---|-----------------------------------------------------|------------------------------------------------|----------\n",
    "1|Marital Status at DX                                 |診斷時婚姻狀態                                   |Catogorical\n",
    "2|Sex                                                  |性別                                            |Catogorical\n",
    "3|Age at diagnosis                                     |診斷年齡                                         |Numerical\n",
    "4|Sequence Number—Central                              |癌症發生順序號碼，個案一生中所罹患惡性腫瘤的發生順序 |Numerical\n",
    "5|Year of diagnosis                                    |診斷年份                                         |Numerical\n",
    "6|Primary Site                                         |原發部位                                         |Categorical\n",
    "7|Laterality                                           |側性                                             |Categorical\n",
    "8|Histologic Type ICD-O-3                              |組織形態，原發腫瘤細胞於顯微鏡下之結構              |Categorical\n",
    "9|Behavior Code ICD-O-3                                |性態碼                                            |Categorical\n",
    "10|Grade                                                |分級                                             |Categorical\n",
    "11|Diagnostic Confirmation                              |癌症確診方式                                      |Categorical\n",
    "12|Regional Nodes Positive                              |區域淋巴結侵犯數目                                 |Numerical\n",
    "13|Regional Nodes Examined                              |區域淋巴結檢查數目                                 |Numerical\n",
    "14|CS Tumor Size                                        |腫瘤大小                                          |Numerical\n",
    "15|CS Extension                                         |腫瘤擴散程度                                      |Categorical\n",
    "16|CS Lymph Nodes                                       |淋巴結侵犯狀態                                    |Categorical\n",
    "17|CS Mets at Dx                                        |診斷時遠端轉移                                    |Categorical\n",
    "18|CS Site-Specific Factor 1                            |癌症部位特定因子1                                 |Categorical\n",
    "19|Derived AJCC T                                       |腫瘤分期 T                                        |Categorical\n",
    "20|Derived AJCC N                                       |腫瘤分期 N                                        |Categorical\n",
    "21|Derived AJCC M                                       |腫瘤分期 M                                        |Categorical\n",
    "22|Derived AJCC Stage Group                             |腫瘤分期                                          |Categorical\n",
    "23|RX Summ—Surg Prim Site                               |原發部位手術方式                                   |Categorical\n",
    "24|RX Summ—Scope Reg LN Sur                             |區域淋巴結手術範圍                                 |Categorical\n",
    "25|Reason for no surgery                                |發部位未手術原因                                   |Categorical\n",
    "26|Race recode (W, B, AI, API)                          |種族                                              |Categorical\n",
    "27|Origin recode NHIA (Hispanic, NonHisp)               |是否為西班牙裔                                     |Categorical\n",
    "28|First malignant primary indicator                    |第一個惡性腫流主要指標                              |Categorical\n",
    "29|Survival months                                      |存活月數                                          |Numerical"
   ]
  },
  {
   "cell_type": "code",
   "execution_count": 21,
   "metadata": {},
   "outputs": [
    {
     "name": "stdout",
     "output_type": "stream",
     "text": [
      "Shape of data: (415655, 29)\n",
      "\n",
      "Info of data:\n",
      "<class 'pandas.core.frame.DataFrame'>\n",
      "Int64Index: 415655 entries, 1 to 606614\n",
      "Data columns (total 29 columns):\n",
      " #   Column                                  Non-Null Count   Dtype  \n",
      "---  ------                                  --------------   -----  \n",
      " 0   Marital Status at DX                    415655 non-null  int8   \n",
      " 1   Sex                                     415655 non-null  int8   \n",
      " 2   Age at diagnosis                        415655 non-null  int16  \n",
      " 3   Sequence Number—Central                 415655 non-null  int8   \n",
      " 4   Year of diagnosis                       415655 non-null  int16  \n",
      " 5   Primary Site                            415655 non-null  object \n",
      " 6   Laterality                              415655 non-null  int8   \n",
      " 7   Histologic Type ICD-O-3                 415655 non-null  object \n",
      " 8   Behavior Code ICD-O-3                   415655 non-null  int8   \n",
      " 9   Grade                                   415655 non-null  int8   \n",
      " 10  Diagnostic Confirmation                 415655 non-null  int8   \n",
      " 11  Regional Nodes Positive                 415655 non-null  int8   \n",
      " 12  Regional Nodes Examined                 415655 non-null  int8   \n",
      " 13  CS Tumor Size                           415655 non-null  int16  \n",
      " 14  CS Extension                            415655 non-null  int16  \n",
      " 15  CS Lymph Nodes                          415655 non-null  int16  \n",
      " 16  CS Mets at Dx                           415655 non-null  int8   \n",
      " 17  CS Site-Specific Factor 1               415655 non-null  float64\n",
      " 18  Derived AJCC T                          415655 non-null  int8   \n",
      " 19  Derived AJCC N                          415655 non-null  int8   \n",
      " 20  Derived AJCC M                          415655 non-null  int8   \n",
      " 21  Derived AJCC Stage Group                415655 non-null  int8   \n",
      " 22  RX Summ—Surg Prim Site                  415655 non-null  int8   \n",
      " 23  RX Summ—Scope Reg LN Sur                415655 non-null  int8   \n",
      " 24  Reason for no surgery                   415655 non-null  int8   \n",
      " 25  Race recode (W, B, AI, API)             415655 non-null  int8   \n",
      " 26  Origin recode NHIA (Hispanic, NonHisp)  415655 non-null  int8   \n",
      " 27  First malignant primary indicator       415655 non-null  int8   \n",
      " 28  Survival months                         415655 non-null  int16  \n",
      "dtypes: float64(1), int16(6), int8(20), object(2)\n",
      "memory usage: 25.4+ MB\n",
      "None\n",
      "\n",
      "There are 0 columns have missing valus:\n"
     ]
    }
   ],
   "source": [
    "df_info(df)"
   ]
  },
  {
   "cell_type": "code",
   "execution_count": 22,
   "metadata": {},
   "outputs": [
    {
     "data": {
      "text/html": [
       "<div>\n",
       "<style scoped>\n",
       "    .dataframe tbody tr th:only-of-type {\n",
       "        vertical-align: middle;\n",
       "    }\n",
       "\n",
       "    .dataframe tbody tr th {\n",
       "        vertical-align: top;\n",
       "    }\n",
       "\n",
       "    .dataframe thead th {\n",
       "        text-align: right;\n",
       "    }\n",
       "</style>\n",
       "<table border=\"1\" class=\"dataframe\">\n",
       "  <thead>\n",
       "    <tr style=\"text-align: right;\">\n",
       "      <th></th>\n",
       "      <th>Age at diagnosis</th>\n",
       "      <th>Sequence Number—Central</th>\n",
       "      <th>Year of diagnosis</th>\n",
       "      <th>Regional Nodes Positive</th>\n",
       "      <th>Regional Nodes Examined</th>\n",
       "      <th>CS Tumor Size</th>\n",
       "      <th>Survival months</th>\n",
       "    </tr>\n",
       "  </thead>\n",
       "  <tbody>\n",
       "    <tr>\n",
       "      <th>count</th>\n",
       "      <td>415655.000000</td>\n",
       "      <td>415655.000000</td>\n",
       "      <td>415655.000000</td>\n",
       "      <td>415655.000000</td>\n",
       "      <td>415655.000000</td>\n",
       "      <td>415655.000000</td>\n",
       "      <td>415655.000000</td>\n",
       "    </tr>\n",
       "    <tr>\n",
       "      <th>mean</th>\n",
       "      <td>69.146978</td>\n",
       "      <td>0.659114</td>\n",
       "      <td>2009.107156</td>\n",
       "      <td>73.131794</td>\n",
       "      <td>11.283889</td>\n",
       "      <td>259.023394</td>\n",
       "      <td>19.287577</td>\n",
       "    </tr>\n",
       "    <tr>\n",
       "      <th>std</th>\n",
       "      <td>11.583472</td>\n",
       "      <td>1.137260</td>\n",
       "      <td>3.156697</td>\n",
       "      <td>42.334304</td>\n",
       "      <td>28.362947</td>\n",
       "      <td>402.101300</td>\n",
       "      <td>25.990341</td>\n",
       "    </tr>\n",
       "    <tr>\n",
       "      <th>min</th>\n",
       "      <td>2.000000</td>\n",
       "      <td>0.000000</td>\n",
       "      <td>2004.000000</td>\n",
       "      <td>0.000000</td>\n",
       "      <td>0.000000</td>\n",
       "      <td>0.000000</td>\n",
       "      <td>0.000000</td>\n",
       "    </tr>\n",
       "    <tr>\n",
       "      <th>25%</th>\n",
       "      <td>62.000000</td>\n",
       "      <td>0.000000</td>\n",
       "      <td>2006.000000</td>\n",
       "      <td>6.000000</td>\n",
       "      <td>0.000000</td>\n",
       "      <td>25.000000</td>\n",
       "      <td>2.000000</td>\n",
       "    </tr>\n",
       "    <tr>\n",
       "      <th>50%</th>\n",
       "      <td>70.000000</td>\n",
       "      <td>0.000000</td>\n",
       "      <td>2009.000000</td>\n",
       "      <td>98.000000</td>\n",
       "      <td>0.000000</td>\n",
       "      <td>45.000000</td>\n",
       "      <td>9.000000</td>\n",
       "    </tr>\n",
       "    <tr>\n",
       "      <th>75%</th>\n",
       "      <td>77.000000</td>\n",
       "      <td>2.000000</td>\n",
       "      <td>2012.000000</td>\n",
       "      <td>98.000000</td>\n",
       "      <td>4.000000</td>\n",
       "      <td>100.000000</td>\n",
       "      <td>25.000000</td>\n",
       "    </tr>\n",
       "    <tr>\n",
       "      <th>max</th>\n",
       "      <td>999.000000</td>\n",
       "      <td>99.000000</td>\n",
       "      <td>2014.000000</td>\n",
       "      <td>99.000000</td>\n",
       "      <td>99.000000</td>\n",
       "      <td>999.000000</td>\n",
       "      <td>131.000000</td>\n",
       "    </tr>\n",
       "  </tbody>\n",
       "</table>\n",
       "</div>"
      ],
      "text/plain": [
       "       Age at diagnosis  Sequence Number—Central  Year of diagnosis  \\\n",
       "count     415655.000000            415655.000000      415655.000000   \n",
       "mean          69.146978                 0.659114        2009.107156   \n",
       "std           11.583472                 1.137260           3.156697   \n",
       "min            2.000000                 0.000000        2004.000000   \n",
       "25%           62.000000                 0.000000        2006.000000   \n",
       "50%           70.000000                 0.000000        2009.000000   \n",
       "75%           77.000000                 2.000000        2012.000000   \n",
       "max          999.000000                99.000000        2014.000000   \n",
       "\n",
       "       Regional Nodes Positive  Regional Nodes Examined  CS Tumor Size  \\\n",
       "count            415655.000000            415655.000000  415655.000000   \n",
       "mean                 73.131794                11.283889     259.023394   \n",
       "std                  42.334304                28.362947     402.101300   \n",
       "min                   0.000000                 0.000000       0.000000   \n",
       "25%                   6.000000                 0.000000      25.000000   \n",
       "50%                  98.000000                 0.000000      45.000000   \n",
       "75%                  98.000000                 4.000000     100.000000   \n",
       "max                  99.000000                99.000000     999.000000   \n",
       "\n",
       "       Survival months  \n",
       "count    415655.000000  \n",
       "mean         19.287577  \n",
       "std          25.990341  \n",
       "min           0.000000  \n",
       "25%           2.000000  \n",
       "50%           9.000000  \n",
       "75%          25.000000  \n",
       "max         131.000000  "
      ]
     },
     "execution_count": 22,
     "metadata": {},
     "output_type": "execute_result"
    }
   ],
   "source": [
    "numerical_col = ['Age at diagnosis', 'Sequence Number—Central', 'Year of diagnosis',\n",
    "               'Regional Nodes Positive', 'Regional Nodes Examined', 'CS Tumor Size', 'Survival months']\n",
    "df[numerical_col].describe()"
   ]
  },
  {
   "cell_type": "markdown",
   "metadata": {},
   "source": [
    "## 資料分割\n",
    "* 選取診斷年份2004~2009的資料。  \n",
    "本研究對非小細胞肺癌患者第五年存活情形進行預測，而自診斷時間至追蹤截止時間止之觀察時間少於五年者，因無法判斷其存活狀態為何，故將其自分析資料中排除。\n",
    "* 依Survival months欄位衍生出Target欄位(Survival)  \n",
    "Survival months >= 60為存活(1)；Survival months < 60為死亡(0)\n",
    "* 83.39%的資料為死亡，Survival的class分佈不平衡\n",
    "* 將資料切割成70%訓練集與30%測試集，並維持class的分佈"
   ]
  },
  {
   "cell_type": "code",
   "execution_count": 23,
   "metadata": {},
   "outputs": [],
   "source": [
    "df = df.loc[df['Year of diagnosis'] <= 2009]\n",
    "df['Survival'] = (df['Survival months'] >= 60).astype(int)\n",
    "df = df.drop(['Survival months'], axis = 1)"
   ]
  },
  {
   "cell_type": "code",
   "execution_count": 24,
   "metadata": {},
   "outputs": [
    {
     "data": {
      "image/png": "[encoded data removed]",
      "text/plain": [
       "<Figure size 432x288 with 1 Axes>"
      ]
     },
     "metadata": {
      "needs_background": "light"
     },
     "output_type": "display_data"
    }
   ],
   "source": [
    "cat_percent_plot('Survival', df)"
   ]
  },
  {
   "cell_type": "code",
   "execution_count": 25,
   "metadata": {},
   "outputs": [],
   "source": [
    "train, test = train_test_split(df, test_size=0.3, stratify=df['Survival'], random_state=1)\n",
    "train = train.copy()\n",
    "test = test.copy()\n",
    "combine = [train, test]"
   ]
  },
  {
   "cell_type": "markdown",
   "metadata": {},
   "source": [
    "## Marital Status at DX(診斷時婚姻狀態)\n",
    "* 取前三個最多的category(總共約占84%): Married, Widowed, Single，其餘的併入others\n",
    "* 已婚的患者有較高的生存率\n",
    "* 欄位描述  \n",
    "1 Single (never married)  \n",
    "2 Married (including common law)  \n",
    "3 Separated  \n",
    "4 Divorced  \n",
    "5 Widowed  \n",
    "6 Unmarried or domestic partner (same sex or opposite sex or unregistered)  \n",
    "9 Unknown  "
   ]
  },
  {
   "cell_type": "code",
   "execution_count": 26,
   "metadata": {},
   "outputs": [
    {
     "data": {
      "image/png": "[encoded data removed]",
      "text/plain": [
       "<Figure size 432x288 with 1 Axes>"
      ]
     },
     "metadata": {
      "needs_background": "light"
     },
     "output_type": "display_data"
    }
   ],
   "source": [
    "cat_percent_plot('Marital Status at DX', train)"
   ]
  },
  {
   "cell_type": "code",
   "execution_count": 27,
   "metadata": {},
   "outputs": [],
   "source": [
    "marriage = train['Marital Status at DX'].value_counts()[:3].index\n",
    "for dataset in combine:\n",
    "    dataset.loc[~dataset['Marital Status at DX'].isin(marriage), 'Marital Status at DX'] = 'others'\n",
    "    dataset['Marital Status at DX'] = dataset['Marital Status at DX'].map({1: 'Single(never married)', 2: 'Married', 5: 'Widowed', 'others': 'others'})"
   ]
  },
  {
   "cell_type": "code",
   "execution_count": 28,
   "metadata": {},
   "outputs": [
    {
     "data": {
      "image/png": "[encoded data removed]",
      "text/plain": [
       "<Figure size 432x288 with 1 Axes>"
      ]
     },
     "metadata": {
      "needs_background": "light"
     },
     "output_type": "display_data"
    }
   ],
   "source": [
    "cat_percent_plot('Marital Status at DX', train)"
   ]
  },
  {
   "cell_type": "code",
   "execution_count": 29,
   "metadata": {},
   "outputs": [
    {
     "data": {
      "text/plain": [
       "<matplotlib.axes._subplots.AxesSubplot at 0x7f2583952210>"
      ]
     },
     "execution_count": 29,
     "metadata": {},
     "output_type": "execute_result"
    },
    {
     "data": {
      "image/png": "[encoded data removed]",
      "text/plain": [
       "<Figure size 432x288 with 1 Axes>"
      ]
     },
     "metadata": {
      "needs_background": "light"
     },
     "output_type": "display_data"
    }
   ],
   "source": [
    "sns.barplot(x='Marital Status at DX', y='Survival', data=train)"
   ]
  },
  {
   "cell_type": "markdown",
   "metadata": {},
   "source": [
    "## Sex(性別)\n",
    "* 將每個值減1轉成binary。0(Male), 1(Female)\n",
    "* 53.78%的資料為男性\n",
    "* 女性的生存率較男性高\n",
    "* 欄位描述  \n",
    "1 Male；2 Female"
   ]
  },
  {
   "cell_type": "code",
   "execution_count": 30,
   "metadata": {},
   "outputs": [
    {
     "data": {
      "image/png": "[encoded data removed]",
      "text/plain": [
       "<Figure size 432x288 with 1 Axes>"
      ]
     },
     "metadata": {
      "needs_background": "light"
     },
     "output_type": "display_data"
    }
   ],
   "source": [
    "cat_percent_plot('Sex', train)"
   ]
  },
  {
   "cell_type": "code",
   "execution_count": 31,
   "metadata": {},
   "outputs": [],
   "source": [
    "for dataset in combine:\n",
    "    dataset['Sex'] = dataset['Sex'] - 1"
   ]
  },
  {
   "cell_type": "code",
   "execution_count": 32,
   "metadata": {},
   "outputs": [
    {
     "data": {
      "text/plain": [
       "<matplotlib.axes._subplots.AxesSubplot at 0x7f2583990a50>"
      ]
     },
     "execution_count": 32,
     "metadata": {},
     "output_type": "execute_result"
    },
    {
     "data": {
      "image/png": "[encoded data removed]",
      "text/plain": [
       "<Figure size 432x288 with 1 Axes>"
      ]
     },
     "metadata": {
      "needs_background": "light"
     },
     "output_type": "display_data"
    }
   ],
   "source": [
    "sns.barplot(x='Sex', y='Survival', hue='Marital Status at DX', data=train)"
   ]
  },
  {
   "cell_type": "markdown",
   "metadata": {},
   "source": [
    "## Age at diagnosis\n",
    "* 有少數資料為Unknown age(999)，以平均值取代\n",
    "* 大部分個案年齡為60~80歲\n",
    "* 20歲以下個案有較高生存率"
   ]
  },
  {
   "cell_type": "code",
   "execution_count": 33,
   "metadata": {},
   "outputs": [
    {
     "data": {
      "text/plain": [
       "<matplotlib.axes._subplots.AxesSubplot at 0x7f2563077650>"
      ]
     },
     "execution_count": 33,
     "metadata": {},
     "output_type": "execute_result"
    },
    {
     "data": {
      "image/png": "[encoded data removed]",
      "text/plain": [
       "<Figure size 432x288 with 1 Axes>"
      ]
     },
     "metadata": {
      "needs_background": "light"
     },
     "output_type": "display_data"
    }
   ],
   "source": [
    "sns.boxplot(train['Age at diagnosis'])"
   ]
  },
  {
   "cell_type": "code",
   "execution_count": 34,
   "metadata": {},
   "outputs": [],
   "source": [
    "age_mean = train.loc[train['Age at diagnosis'] != 999, 'Age at diagnosis'].mean().round(0).astype(int)\n",
    "for dataset in combine:\n",
    "    dataset.loc[dataset['Age at diagnosis'] == 999, 'Age at diagnosis'] = age_mean"
   ]
  },
  {
   "cell_type": "code",
   "execution_count": 35,
   "metadata": {},
   "outputs": [
    {
     "data": {
      "text/plain": [
       "<seaborn.axisgrid.FacetGrid at 0x7f25814ad9d0>"
      ]
     },
     "execution_count": 35,
     "metadata": {},
     "output_type": "execute_result"
    },
    {
     "data": {
      "image/png": "[encoded data removed]",
      "text/plain": [
       "<Figure size 720x360 with 2 Axes>"
      ]
     },
     "metadata": {
      "needs_background": "light"
     },
     "output_type": "display_data"
    }
   ],
   "source": [
    "g = sns.FacetGrid(train, col='Survival', height=5)\n",
    "g.map(plt.hist, 'Age at diagnosis', bins=30)\n",
    "g.set(xticks=range(0, 110, 10))"
   ]
  },
  {
   "cell_type": "markdown",
   "metadata": {},
   "source": [
    "## Sequence Number—Central(癌症發生順序號碼)\n",
    "* 將unknown以mode取代\n",
    "* 欄位描述  \n",
    "描述個案一生中發生的所有惡性、原位、良性和邊際性原發性腫瘤的數量和順序。  \n",
    "0: One primary only in the patient’s lifetime  \n",
    "1: First of two or more primaries  \n",
    "2: Second of two or more primaries  \n",
    "...: (Actual number of this primary)  \n",
    "99: Unspecified or unknown sequence number"
   ]
  },
  {
   "cell_type": "code",
   "execution_count": 36,
   "metadata": {},
   "outputs": [
    {
     "data": {
      "image/png": "[encoded data removed]",
      "text/plain": [
       "<Figure size 432x288 with 1 Axes>"
      ]
     },
     "metadata": {
      "needs_background": "light"
     },
     "output_type": "display_data"
    }
   ],
   "source": [
    "cat_percent_plot('Sequence Number—Central', train)"
   ]
  },
  {
   "cell_type": "code",
   "execution_count": 37,
   "metadata": {},
   "outputs": [],
   "source": [
    "sequence_mode = train['Sequence Number—Central'].mode()[0]\n",
    "for dataset in combine: \n",
    "    dataset.loc[dataset['Sequence Number—Central'] == 0, 'Sequence Number—Central'] = 1\n",
    "    dataset.loc[dataset['Sequence Number—Central'] == 99, 'Sequence Number—Central'] = sequence_mode"
   ]
  },
  {
   "cell_type": "markdown",
   "metadata": {},
   "source": [
    "## Laterality(側性)\n",
    "* code = 3, 9的側性不清楚，以mode取代\n",
    "* code = 0, 4資料量極少，併入others\n",
    "* 欄位描述  \n",
    "0: 不是成對器官  \n",
    "1: 原發起源位在右側  \n",
    "2: 原發起源位在左側  \n",
    "3: 只有單側侵犯，但起源於左側或右側則不清楚  \n",
    "4: 雙側侵犯但起源之側位不清楚，且病歷描述是單一原發  \n",
    "5: 成對器官，位於身體中線的腫瘤  \n",
    "9: 成對器官，但其側位不清楚"
   ]
  },
  {
   "cell_type": "code",
   "execution_count": 38,
   "metadata": {},
   "outputs": [
    {
     "data": {
      "image/png": "[encoded data removed]",
      "text/plain": [
       "<Figure size 432x288 with 1 Axes>"
      ]
     },
     "metadata": {
      "needs_background": "light"
     },
     "output_type": "display_data"
    }
   ],
   "source": [
    "cat_percent_plot('Laterality', train)"
   ]
  },
  {
   "cell_type": "code",
   "execution_count": 39,
   "metadata": {},
   "outputs": [],
   "source": [
    "laterality_mode = train['Laterality'].mode()[0]\n",
    "for dataset in combine:\n",
    "    dataset.loc[dataset['Laterality'].isin([3, 9]), 'Laterality'] = laterality_mode\n",
    "    dataset.loc[dataset['Laterality'].isin([0, 4]), 'Laterality'] = 'others'\n",
    "    dataset['Laterality'] = dataset['Laterality'].map({1: 'Right', 2: 'Left', 'others': 'others'})"
   ]
  },
  {
   "cell_type": "markdown",
   "metadata": {},
   "source": [
    "## Behavior Code ICD-O-3(性態碼)\n",
    "* 99.93%為惡性(code = 3)\n",
    "* 將此欄位刪除，因為幾乎為constant feature"
   ]
  },
  {
   "cell_type": "code",
   "execution_count": 40,
   "metadata": {},
   "outputs": [
    {
     "data": {
      "image/png": "[encoded data removed]",
      "text/plain": [
       "<Figure size 432x288 with 1 Axes>"
      ]
     },
     "metadata": {
      "needs_background": "light"
     },
     "output_type": "display_data"
    }
   ],
   "source": [
    "cat_percent_plot('Behavior Code ICD-O-3', train)"
   ]
  },
  {
   "cell_type": "code",
   "execution_count": 41,
   "metadata": {},
   "outputs": [],
   "source": [
    "for dataset in combine:\n",
    "    dataset.drop(['Behavior Code ICD-O-3'], axis=1, inplace=True)"
   ]
  },
  {
   "cell_type": "markdown",
   "metadata": {},
   "source": [
    "## Diagnostic Confirmation(癌症確診方式)\n",
    "* 資料大多為1或2\n",
    "* 將5~8併成一類，9用mode取代\n",
    "* 欄位描述  \n",
    "1-4: 經顯微鏡檢證實(1: 組織病理學確診；2: 細胞學確診)  \n",
    "5-8: 未經顯微鏡檢證實  \n",
    "9: 不清楚是否經顯微鏡檢證實"
   ]
  },
  {
   "cell_type": "code",
   "execution_count": 42,
   "metadata": {},
   "outputs": [
    {
     "data": {
      "image/png": "[encoded data removed]",
      "text/plain": [
       "<Figure size 432x288 with 1 Axes>"
      ]
     },
     "metadata": {
      "needs_background": "light"
     },
     "output_type": "display_data"
    }
   ],
   "source": [
    "cat_percent_plot('Diagnostic Confirmation', train)"
   ]
  },
  {
   "cell_type": "code",
   "execution_count": 43,
   "metadata": {},
   "outputs": [],
   "source": [
    "confirmation_mode = train['Diagnostic Confirmation'].mode()[0]\n",
    "for dataset in combine:\n",
    "    dataset.loc[dataset['Diagnostic Confirmation'].isin(range(5, 9)), 'Diagnostic Confirmation'] = 5\n",
    "    dataset.loc[dataset['Diagnostic Confirmation'] == 9, 'Diagnostic Confirmation'] = confirmation_mode"
   ]
  },
  {
   "cell_type": "code",
   "execution_count": 44,
   "metadata": {},
   "outputs": [
    {
     "data": {
      "text/plain": [
       "<seaborn.axisgrid.FacetGrid at 0x7f25834bfc50>"
      ]
     },
     "execution_count": 44,
     "metadata": {},
     "output_type": "execute_result"
    },
    {
     "data": {
      "image/png": "[encoded data removed]",
      "text/plain": [
       "<Figure size 360x360 with 1 Axes>"
      ]
     },
     "metadata": {
      "needs_background": "light"
     },
     "output_type": "display_data"
    }
   ],
   "source": [
    "sns.catplot(x='Diagnostic Confirmation', y='Survival', data=train, kind='bar')"
   ]
  },
  {
   "cell_type": "markdown",
   "metadata": {},
   "source": [
    "## CS Tumor Size(腫瘤大小)\n",
    "* Code 991-995分別代表小於1-5公分，用各區間(1-10, 10-20, 20-30, 30-40, 40-50)的median取代  \n",
    "* 25.6%為999(unknown)，以median取代(right skewed distribution)  \n",
    "* 將單位由mm轉成cm"
   ]
  },
  {
   "cell_type": "code",
   "execution_count": 45,
   "metadata": {},
   "outputs": [],
   "source": [
    "# Code 991-995 represent tumor size less than 1-5 mm respectively.\n",
    "# Replace 991-995 with mean of each interval(1-10, 10-20, etc.)\n",
    "tumor_size= {991: range(1, 10), 992: range(10, 20), 993: range(20, 30), 994: range(30, 40), 995: range(40, 50)}\n",
    "for dataset in combine:\n",
    "    for size in tumor_size.keys():\n",
    "        median = dataset.loc[dataset['CS Tumor Size'].isin(tumor_size[size]),'CS Tumor Size'].median()\n",
    "        median = int(round(median, 0))\n",
    "        dataset.loc[dataset['CS Tumor Size'] == size, 'CS Tumor Size'] = median"
   ]
  },
  {
   "cell_type": "code",
   "execution_count": 46,
   "metadata": {},
   "outputs": [
    {
     "data": {
      "image/png": "[encoded data removed]",
      "text/plain": [
       "<Figure size 432x288 with 1 Axes>"
      ]
     },
     "metadata": {
      "needs_background": "light"
     },
     "output_type": "display_data"
    }
   ],
   "source": [
    "# Distribution of tumor size is right skewed.\n",
    "# Replace 999(unknown) with median.\n",
    "sns.distplot(train.loc[train['CS Tumor Size'] != 999, 'CS Tumor Size'], bins=50)\n",
    "plt.show()\n",
    "\n",
    "median = int(train.loc[train['CS Tumor Size'] != 999, 'CS Tumor Size'].median())\n",
    "for dataset in combine:\n",
    "    dataset.loc[dataset['CS Tumor Size'] == 999, 'CS Tumor Size'] = median"
   ]
  },
  {
   "cell_type": "code",
   "execution_count": 47,
   "metadata": {},
   "outputs": [],
   "source": [
    "# Convert mm to cm.\n",
    "for dataset in combine:\n",
    "    dataset['CS Tumor Size'] = dataset['CS Tumor Size'] / 10"
   ]
  },
  {
   "cell_type": "markdown",
   "metadata": {},
   "source": [
    "## Derived AJCC T/N/M/Stage Group\n",
    "* These are ordinal features.\n",
    "* Map code 88(Not applicable) to code -99\n",
    "* 繪製各欄位的coutplot\n",
    "    * T: 約35%的個案腫瘤不限大小，直接侵犯到縱膈腔、心臟、大血管、氣管、食道、喉返神經、脊椎體、氣管分岔部\n",
    "    * N: 約38%的個案無區域淋巴結轉移\n",
    "    * M: 約50%的個案無遠端轉移\n",
    "    * Stage Group: 約42%的個案為第四期\n",
    "* 繪製各欄位每個category的生存率\n",
    "    * 四個欄位皆以code=88(Not applicable)生存率為最高\n",
    "    * T: 基本上生存率隨著腫瘤侵犯的範圍擴大而下降\n",
    "    * N: 生存率隨著淋巴結轉移的範圍擴大而下降\n",
    "    * M: 無遠端轉移的生存率較有遠端轉移的高\n",
    "    * Stage Group: 越後期生存率越低\n",
    "\n",
    "欄位描述:\n",
    "* TNM分期系統被用來評估癌症的預後\n",
    "* 使用AJCC第6版分期法，以原發腫瘤(Primary Tumor, T)、淋巴結轉移(Regional Lymph Nodes, N)及遠端轉移(Distant Metastasis, M)為依據，來決定分期(Stage Group)"
   ]
  },
  {
   "cell_type": "code",
   "execution_count": 48,
   "metadata": {},
   "outputs": [
    {
     "data": {
      "image/png": "[encoded data removed]",
      "text/plain": [
       "<Figure size 1080x720 with 4 Axes>"
      ]
     },
     "metadata": {
      "needs_background": "light"
     },
     "output_type": "display_data"
    }
   ],
   "source": [
    "ajcc = ['Derived AJCC T', 'Derived AJCC N', 'Derived AJCC M', 'Derived AJCC Stage Group']\n",
    "plt.figure(figsize=(15, 10))\n",
    "for i, col in enumerate(ajcc):\n",
    "    plt.subplot(2,2,i+1)\n",
    "    sns.countplot(x=col, data=train)\n",
    "plt.show()"
   ]
  },
  {
   "cell_type": "code",
   "execution_count": 49,
   "metadata": {},
   "outputs": [
    {
     "data": {
      "image/png": "[encoded data removed]",
      "text/plain": [
       "<Figure size 1080x720 with 4 Axes>"
      ]
     },
     "metadata": {
      "needs_background": "light"
     },
     "output_type": "display_data"
    }
   ],
   "source": [
    "plt.figure(figsize=(15, 10))\n",
    "for i, col in enumerate(ajcc):\n",
    "    plt.subplot(2,2,i+1)\n",
    "    sns.barplot(x=col, y='Survival', data=train)\n",
    "plt.show()"
   ]
  },
  {
   "cell_type": "code",
   "execution_count": 50,
   "metadata": {},
   "outputs": [],
   "source": [
    "for dataset in combine:\n",
    "    for col in ajcc:\n",
    "        dataset.loc[dataset[col] == 88, col] = -99"
   ]
  },
  {
   "cell_type": "markdown",
   "metadata": {},
   "source": [
    "## RX Summ—Surg Prim Site(原發部位手術方式)\n",
    "* Nominal feature\n",
    "* 73.75%的個案未進行原發部位手術(code = 0)\n",
    "* code = 99(占0.8)為不清楚個案是否有接受手術治療，以mode(code = 0, 未進行原發部位手術)取代\n",
    "* code = 90(占0.23%)為有進行手術但不清楚手術方式，以排除code = 0(未進行原發部位手術)後的mode取代\n",
    "* 大部分的category資料量都占不到1%，依相關文件將手術方式合併在一起  \n",
    "https://seer.cancer.gov/archive/manuals/2016/AppendixC/Surgery_Codes_Lung_2016.pdf\n",
    "* 欄位描述  \n",
    "    去除和/或破壞原發部位的組織，為初始檢查或第一療程的一部分\n"
   ]
  },
  {
   "cell_type": "code",
   "execution_count": 51,
   "metadata": {},
   "outputs": [
    {
     "data": {
      "image/png": "[encoded data removed]",
      "text/plain": [
       "<Figure size 1080x360 with 1 Axes>"
      ]
     },
     "metadata": {
      "needs_background": "light"
     },
     "output_type": "display_data"
    }
   ],
   "source": [
    "plt.figure(figsize=(15, 5))\n",
    "cat_percent_plot('RX Summ—Surg Prim Site', train)"
   ]
  },
  {
   "cell_type": "code",
   "execution_count": 52,
   "metadata": {},
   "outputs": [],
   "source": [
    "# Replace code 99 with mode.\n",
    "# Replace code 90 with most frequect surgery type.\n",
    "# Combine surgery types.\n",
    "mode = train['RX Summ—Surg Prim Site'].mode()[0]\n",
    "surg_mode = train.loc[train['RX Summ—Surg Prim Site'] != 0, 'RX Summ—Surg Prim Site'].mode()[0]\n",
    "bins = [0, 10, 20, 30, 40, 50, 60, 70, 80, 90]\n",
    "labels = ['0','10-19','20-29','30-39', '40-49', '50-59', '60-69', '70', '80']\n",
    "for dataset in combine:\n",
    "    dataset.loc[dataset['RX Summ—Surg Prim Site'] == 99, 'RX Summ—Surg Prim Site'] = mode\n",
    "    dataset.loc[dataset['RX Summ—Surg Prim Site'] == 90, 'RX Summ—Surg Prim Site'] = surg_mode\n",
    "    dataset['RX Summ—Surg Prim Site'] = pd.cut(dataset['RX Summ—Surg Prim Site'], bins=bins, right=False, labels=labels)\n",
    "    dataset['RX Summ—Surg Prim Site'] = dataset['RX Summ—Surg Prim Site'].astype('object')"
   ]
  },
  {
   "cell_type": "code",
   "execution_count": 53,
   "metadata": {},
   "outputs": [
    {
     "data": {
      "text/plain": [
       "<matplotlib.axes._subplots.AxesSubplot at 0x7f257c366990>"
      ]
     },
     "execution_count": 53,
     "metadata": {},
     "output_type": "execute_result"
    },
    {
     "data": {
      "image/png": "[encoded data removed]",
      "text/plain": [
       "<Figure size 432x288 with 1 Axes>"
      ]
     },
     "metadata": {
      "needs_background": "light"
     },
     "output_type": "display_data"
    }
   ],
   "source": [
    "sns.barplot(x='RX Summ—Surg Prim Site', y='Survival', data=train)"
   ]
  },
  {
   "cell_type": "markdown",
   "metadata": {},
   "source": [
    "## RX Summ—Scope Reg LN Sur (區域淋巴結手術範圍)\n",
    "* Oridnal feature\n",
    "* code = 9(Unknown)，以mode取代\n",
    "* 72.39%未去除或抽吸區域淋巴結(或考慮區分為有去除/無去除?)"
   ]
  },
  {
   "cell_type": "code",
   "execution_count": 54,
   "metadata": {},
   "outputs": [
    {
     "data": {
      "image/png": "[encoded data removed]",
      "text/plain": [
       "<Figure size 432x288 with 1 Axes>"
      ]
     },
     "metadata": {
      "needs_background": "light"
     },
     "output_type": "display_data"
    }
   ],
   "source": [
    "cat_percent_plot('RX Summ—Scope Reg LN Sur', train)"
   ]
  },
  {
   "cell_type": "code",
   "execution_count": 55,
   "metadata": {},
   "outputs": [],
   "source": [
    "mode = train['RX Summ—Scope Reg LN Sur'].mode()[0]\n",
    "for dataset in combine:\n",
    "    dataset.loc[dataset['RX Summ—Scope Reg LN Sur'] == 9, 'RX Summ—Scope Reg LN Sur'] = mode"
   ]
  },
  {
   "cell_type": "code",
   "execution_count": 56,
   "metadata": {},
   "outputs": [
    {
     "data": {
      "text/plain": [
       "<matplotlib.axes._subplots.AxesSubplot at 0x7f25791c9950>"
      ]
     },
     "execution_count": 56,
     "metadata": {},
     "output_type": "execute_result"
    },
    {
     "data": {
      "image/png": "[encoded data removed]",
      "text/plain": [
       "<Figure size 432x288 with 1 Axes>"
      ]
     },
     "metadata": {
      "needs_background": "light"
     },
     "output_type": "display_data"
    }
   ],
   "source": [
    "sns.barplot(x='RX Summ—Scope Reg LN Sur', y='Survival', data=train)"
   ]
  },
  {
   "cell_type": "markdown",
   "metadata": {},
   "source": [
    "## Reason for no surgery (發部位未手術原因)\n",
    "* Code 8 & Code 9為Unknown，以mode取代\n",
    "* Code 2~7資料量少，合併成others"
   ]
  },
  {
   "cell_type": "code",
   "execution_count": 57,
   "metadata": {},
   "outputs": [
    {
     "data": {
      "image/png": "[encoded data removed]",
      "text/plain": [
       "<Figure size 432x288 with 1 Axes>"
      ]
     },
     "metadata": {
      "needs_background": "light"
     },
     "output_type": "display_data"
    }
   ],
   "source": [
    "cat_percent_plot('Reason for no surgery', train)"
   ]
  },
  {
   "cell_type": "code",
   "execution_count": 58,
   "metadata": {},
   "outputs": [],
   "source": [
    "mode = train['Reason for no surgery'].mode()[0]\n",
    "for dataset in combine:\n",
    "    dataset.loc[dataset['Reason for no surgery'].isin([8, 9]), 'Reason for no surgery'] = mode\n",
    "    dataset.loc[dataset['Reason for no surgery'].isin(range(2, 8)), 'Reason for no surgery'] = 'others'"
   ]
  },
  {
   "cell_type": "markdown",
   "metadata": {},
   "source": [
    "## Race recode (W, B, AI, API)種族\n",
    "* code 9為Unknown，依mode取代\n",
    "* 合併code 3與code 4，兩者資料量少"
   ]
  },
  {
   "cell_type": "code",
   "execution_count": 59,
   "metadata": {},
   "outputs": [
    {
     "data": {
      "image/png": "[encoded data removed]",
      "text/plain": [
       "<Figure size 432x288 with 1 Axes>"
      ]
     },
     "metadata": {
      "needs_background": "light"
     },
     "output_type": "display_data"
    }
   ],
   "source": [
    "cat_percent_plot('Race recode (W, B, AI, API)', train)"
   ]
  },
  {
   "cell_type": "code",
   "execution_count": 60,
   "metadata": {},
   "outputs": [],
   "source": [
    "mode = train['Race recode (W, B, AI, API)'].mode(0)[0]\n",
    "for dataset in combine:\n",
    "    dataset.loc[dataset['Race recode (W, B, AI, API)'] == 9, 'Race recode (W, B, AI, API)'] = mode\n",
    "    dataset.loc[dataset['Race recode (W, B, AI, API)'].isin([3, 4]), 'Race recode (W, B, AI, API)'] = 'others'\n",
    "    dataset['Race recode (W, B, AI, API)'] = dataset['Race recode (W, B, AI, API)'].map({1: 'White', 2: 'Black', 'others': 'others'})"
   ]
  },
  {
   "cell_type": "markdown",
   "metadata": {},
   "source": [
    "## Grade (分級/分化)\n",
    "* Ordinal feature  \n",
    "* Unknown(code=9)占了48.97%，以(-99)取代\n",
    "* 欄位描述:  \n",
    "用來描述腫瘤與正常細胞的相似程度，分化愈好的(愈像正常組織)，級數愈低；分化愈差的，級數愈高。為影響預後與存活時間的因子。  \n",
    "    * Code 1-4分別代表第一級-第四級\n",
    "    * Code 9為Unknown"
   ]
  },
  {
   "cell_type": "code",
   "execution_count": 61,
   "metadata": {},
   "outputs": [
    {
     "data": {
      "image/png": "[encoded data removed]",
      "text/plain": [
       "<Figure size 432x288 with 1 Axes>"
      ]
     },
     "metadata": {
      "needs_background": "light"
     },
     "output_type": "display_data"
    }
   ],
   "source": [
    "cat_percent_plot('Grade', train)"
   ]
  },
  {
   "cell_type": "code",
   "execution_count": 62,
   "metadata": {},
   "outputs": [],
   "source": [
    "for dataset in combine:\n",
    "    dataset.loc[dataset['Grade'] == 9, 'Grade'] = -99"
   ]
  },
  {
   "cell_type": "markdown",
   "metadata": {},
   "source": [
    "## Encoding nominal features\n",
    "將Nominal features做one-hot encoding\n",
    "* Nominal features:  \n",
    "Marital Status at DX  \n",
    "Primary Site  \n",
    "Laterality  \n",
    "Histologic Type ICD-O-3  \n",
    "Diagnostic Confirmation  \n",
    "CS Site-Specific Factor 1  \n",
    "RX Summ—Surg Prim Site  \n",
    "Reason for no surgery  \n",
    "Race recode (W, B, AI, API)  \n",
    "Origin recode NHIA (Hispanic, NonHisp)  \n",
    "* Ordinal features:  \n",
    "Grade  \n",
    "CS Extension  \n",
    "CS Lymph Nodes  \n",
    "CS Mets at Dx  \n",
    "Derived AJCC T  \n",
    "Derived AJCC N  \n",
    "Derived AJCC M  \n",
    "Derived AJCC Stage Group  \n",
    "RX Summ—Scope Reg LN Sur  "
   ]
  },
  {
   "cell_type": "code",
   "execution_count": 63,
   "metadata": {},
   "outputs": [],
   "source": [
    "ordinal = ['Grade', 'CS Extension', 'CS Lymph Nodes', 'CS Mets at Dx', 'Derived AJCC T',\n",
    "           'Derived AJCC N', 'Derived AJCC M', 'Derived AJCC Stage Group', 'RX Summ—Scope Reg LN Sur']\n",
    "nominal = ['Marital Status at DX', 'Primary Site', 'Laterality', 'Histologic Type ICD-O-3',\n",
    "           'Diagnostic Confirmation', 'CS Site-Specific Factor 1', 'RX Summ—Surg Prim Site',\n",
    "           'Reason for no surgery', 'Race recode (W, B, AI, API)', 'Origin recode NHIA (Hispanic, NonHisp)']"
   ]
  },
  {
   "cell_type": "code",
   "execution_count": 64,
   "metadata": {},
   "outputs": [],
   "source": [
    "for dataset in combine:\n",
    "    dataset['CS Site-Specific Factor 1'] = dataset['CS Site-Specific Factor 1'].astype(int)\n",
    "    dataset[nominal] = dataset[nominal].astype(str)"
   ]
  },
  {
   "cell_type": "code",
   "execution_count": 65,
   "metadata": {},
   "outputs": [],
   "source": [
    "onehotencoder = OneHotEncoder(handle_unknown='ignore', sparse=False)\n",
    "onehotencoder.fit(train[nominal])\n",
    "\n",
    "for i, dataset in enumerate(combine):\n",
    "    encoded = pd.DataFrame(onehotencoder.transform(dataset[nominal]), columns=onehotencoder.get_feature_names(nominal))\n",
    "    combine[i] = pd.concat([dataset.drop(nominal, axis=1).reset_index(drop = True), encoded], axis=1)\n",
    "train, test = combine"
   ]
  },
  {
   "cell_type": "code",
   "execution_count": 66,
   "metadata": {},
   "outputs": [
    {
     "data": {
      "text/plain": [
       "<matplotlib.axes._subplots.AxesSubplot at 0x7f25790e33d0>"
      ]
     },
     "execution_count": 66,
     "metadata": {},
     "output_type": "execute_result"
    },
    {
     "data": {
      "image/png": "[encoded data removed]",
      "text/plain": [
       "<Figure size 432x288 with 2 Axes>"
      ]
     },
     "metadata": {
      "needs_background": "light"
     },
     "output_type": "display_data"
    }
   ],
   "source": [
    "numerical_col.remove('Survival months')\n",
    "sns.heatmap(train[numerical_col].corr(), annot=True)"
   ]
  },
  {
   "cell_type": "markdown",
   "metadata": {},
   "source": [
    "## Feature Selection\n",
    "* 使用Wrapper方法做feature selection\n",
    "* 共挑出25個欄位"
   ]
  },
  {
   "cell_type": "code",
   "execution_count": 67,
   "metadata": {},
   "outputs": [],
   "source": [
    "x_train, y_train = train.drop(['Survival'], axis=1), train['Survival']\n",
    "x_test, y_test = test.drop(['Survival'], axis=1), test['Survival']"
   ]
  },
  {
   "cell_type": "code",
   "execution_count": 68,
   "metadata": {},
   "outputs": [
    {
     "name": "stdout",
     "output_type": "stream",
     "text": [
      "Optimal number of features is 25\n",
      "The selected features are:\n",
      "['Sex', 'Age at diagnosis', 'Year of diagnosis', 'Grade', 'Regional Nodes Positive', 'CS Tumor Size', 'CS Extension', 'CS Lymph Nodes', 'CS Mets at Dx', 'Derived AJCC T', 'Derived AJCC M', 'Derived AJCC Stage Group', 'First malignant primary indicator', 'Marital Status at DX_Married', 'Primary Site_C341', 'Histologic Type ICD-O-3_others', 'Diagnostic Confirmation_1', 'Diagnostic Confirmation_5', 'CS Site-Specific Factor 1_988', 'RX Summ—Surg Prim Site_0', 'RX Summ—Surg Prim Site_10-19', 'RX Summ—Surg Prim Site_20-29', 'Reason for no surgery_0', 'Race recode (W, B, AI, API)_Black', 'Race recode (W, B, AI, API)_others']\n"
     ]
    }
   ],
   "source": [
    "adaboost = AdaBoostClassifier(random_state = 0)\n",
    "rfecv = RFECV(estimator=adaboost, step=1, cv=StratifiedKFold(5), scoring='roc_auc', verbose=0, n_jobs=-1)\n",
    "rfecv.fit(x_train, y_train) \n",
    "print(f'Optimal number of features is {rfecv.n_features_}')\n",
    "features = [f for f,s in zip(x_train.columns, rfecv.support_) if s]\n",
    "print('The selected features are:')\n",
    "print (features)"
   ]
  },
  {
   "cell_type": "code",
   "execution_count": 69,
   "metadata": {},
   "outputs": [],
   "source": [
    "# data of selected features\n",
    "x_train_fs = x_train[features]\n",
    "x_test_fs = x_test[features]"
   ]
  },
  {
   "cell_type": "markdown",
   "metadata": {},
   "source": [
    "## Baseline model"
   ]
  },
  {
   "cell_type": "code",
   "execution_count": 70,
   "metadata": {},
   "outputs": [
    {
     "name": "stdout",
     "output_type": "stream",
     "text": [
      "--------------------Scores of training data--------------------\n",
      "Accuracy of training data:  0.83500964006364\n",
      "AUC of training data:  0.8918882469285718\n"
     ]
    }
   ],
   "source": [
    "sme = SMOTEENN(random_state=0)\n",
    "adaboost = AdaBoostClassifier(DecisionTreeClassifier(max_depth=1), random_state=0)\n",
    "imba_pipeline = Pipeline([('sme', sme), ('adaboost', adaboost)])\n",
    "scorings = ['accuracy', 'roc_auc']\n",
    "scores = cross_validate(imba_pipeline, x_train_fs, y_train, cv=5, scoring=scorings)\n",
    "\n",
    "print('-'*20 + 'Scores of training data' + '-'*20)\n",
    "print('Accuracy of training data: ', scores['test_accuracy'].mean())\n",
    "print('AUC of training data: ', scores['test_roc_auc'].mean())"
   ]
  },
  {
   "cell_type": "code",
   "execution_count": null,
   "metadata": {},
   "outputs": [],
   "source": []
  },
  {
   "cell_type": "markdown",
   "metadata": {},
   "source": [
    "## Hyperparameters tuning & Resampling"
   ]
  },
  {
   "cell_type": "code",
   "execution_count": 71,
   "metadata": {},
   "outputs": [],
   "source": [
    "model_params = {\n",
    "    'base_estimator': DecisionTreeClassifier(max_depth=1),\n",
    "    'n_estimators': 50,\n",
    "    'learning_rate': 1,\n",
    "    'random_state': 0\n",
    "}"
   ]
  },
  {
   "cell_type": "code",
   "execution_count": 72,
   "metadata": {},
   "outputs": [],
   "source": [
    "sme = SMOTEENN(random_state=0)\n",
    "adaboost = AdaBoostClassifier(**model_params)\n",
    "imba_pipeline = Pipeline([('sme', sme), ('adaboost', adaboost)])"
   ]
  },
  {
   "cell_type": "code",
   "execution_count": 73,
   "metadata": {},
   "outputs": [
    {
     "name": "stdout",
     "output_type": "stream",
     "text": [
      "{'adaboost__base_estimator': DecisionTreeClassifier(max_depth=1)}\n",
      "0.8918882469285718\n"
     ]
    }
   ],
   "source": [
    "params1 = {'adaboost__base_estimator': [DecisionTreeClassifier(max_depth=1), DecisionTreeClassifier(max_depth=5), DecisionTreeClassifier(max_depth=10)]}\n",
    "grid1 = GridSearchCV(imba_pipeline, param_grid=params1, cv=StratifiedKFold(5), scoring='roc_auc', n_jobs=-1, return_train_score=True)\n",
    "grid1.fit(x_train_fs, y_train)\n",
    "\n",
    "print(grid1.best_params_)\n",
    "print(grid1.best_score_)"
   ]
  },
  {
   "cell_type": "code",
   "execution_count": null,
   "metadata": {},
   "outputs": [],
   "source": [
    "\n"
   ]
  },
  {
   "cell_type": "code",
   "execution_count": 74,
   "metadata": {},
   "outputs": [
    {
     "name": "stdout",
     "output_type": "stream",
     "text": [
      "{'adaboost__base_estimator': DecisionTreeClassifier(max_depth=2)}\n",
      "0.896710175303447\n"
     ]
    }
   ],
   "source": [
    "params2 = {'adaboost__base_estimator': [DecisionTreeClassifier(max_depth=1), DecisionTreeClassifier(max_depth=2), \n",
    "                                        DecisionTreeClassifier(max_depth=3), DecisionTreeClassifier(max_depth=4)]}\n",
    "grid2 = GridSearchCV(imba_pipeline, param_grid=params2, cv=StratifiedKFold(5), scoring='roc_auc', n_jobs=-1, return_train_score=True)\n",
    "grid2.fit(x_train_fs, y_train)\n",
    "\n",
    "print(grid2.best_params_)\n",
    "print(grid2.best_score_)"
   ]
  },
  {
   "cell_type": "code",
   "execution_count": null,
   "metadata": {},
   "outputs": [],
   "source": []
  },
  {
   "cell_type": "code",
   "execution_count": 75,
   "metadata": {},
   "outputs": [],
   "source": [
    "model_params['base_estimator'] = DecisionTreeClassifier(max_depth=2)\n",
    "adaboost = AdaBoostClassifier(**model_params)\n",
    "imba_pipeline = Pipeline([('sme', sme), ('adaboost', adaboost)])"
   ]
  },
  {
   "cell_type": "code",
   "execution_count": 77,
   "metadata": {},
   "outputs": [
    {
     "name": "stdout",
     "output_type": "stream",
     "text": [
      "{'adaboost__n_estimators': 100}\n",
      "0.897096550327845\n"
     ]
    }
   ],
   "source": [
    "params3 = {'adaboost__n_estimators': [50, 100, 300, 500, 1000, 1500]}\n",
    "grid3 = GridSearchCV(imba_pipeline, param_grid=params3, cv=StratifiedKFold(5), scoring='roc_auc', n_jobs=-1, return_train_score=True)\n",
    "grid3.fit(x_train_fs, y_train)\n",
    "\n",
    "print(grid3.best_params_)\n",
    "print(grid3.best_score_)"
   ]
  },
  {
   "cell_type": "code",
   "execution_count": null,
   "metadata": {},
   "outputs": [],
   "source": []
  },
  {
   "cell_type": "code",
   "execution_count": 78,
   "metadata": {},
   "outputs": [
    {
     "name": "stdout",
     "output_type": "stream",
     "text": [
      "{'adaboost__n_estimators': 100}\n",
      "0.897096550327845\n"
     ]
    }
   ],
   "source": [
    "params4 = {'adaboost__n_estimators': [75, 100, 150, 200, 250]}\n",
    "grid4 = GridSearchCV(imba_pipeline, param_grid=params4, cv=StratifiedKFold(5), scoring='roc_auc', n_jobs=-1, return_train_score=True)\n",
    "grid4.fit(x_train_fs, y_train)\n",
    "\n",
    "print(grid4.best_params_)\n",
    "print(grid4.best_score_)"
   ]
  },
  {
   "cell_type": "code",
   "execution_count": null,
   "metadata": {},
   "outputs": [],
   "source": []
  },
  {
   "cell_type": "code",
   "execution_count": 82,
   "metadata": {},
   "outputs": [],
   "source": [
    "model_params['n_estimators'] = 100\n",
    "adaboost = AdaBoostClassifier(**model_params)\n",
    "imba_pipeline = Pipeline([('sme', sme), ('adaboost', adaboost)])"
   ]
  },
  {
   "cell_type": "code",
   "execution_count": 84,
   "metadata": {},
   "outputs": [
    {
     "name": "stdout",
     "output_type": "stream",
     "text": [
      "{'adaboost__learning_rate': 1}\n",
      "0.897096550327845\n"
     ]
    }
   ],
   "source": [
    "params5 = {'adaboost__learning_rate': [0.001, 0.01, 0.1, 1]} \n",
    "grid5 = GridSearchCV(imba_pipeline, param_grid=params5, cv=StratifiedKFold(5), scoring='roc_auc', n_jobs=-1, return_train_score=True)\n",
    "grid5.fit(x_train_fs, y_train)\n",
    "\n",
    "print(grid5.best_params_)\n",
    "print(grid5.best_score_)"
   ]
  },
  {
   "cell_type": "code",
   "execution_count": 85,
   "metadata": {},
   "outputs": [
    {
     "data": {
      "text/plain": [
       "Pipeline(steps=[('sme', SMOTEENN(random_state=0)),\n",
       "                ('adaboost',\n",
       "                 AdaBoostClassifier(base_estimator=DecisionTreeClassifier(max_depth=2),\n",
       "                                    learning_rate=1, n_estimators=100,\n",
       "                                    random_state=0))])"
      ]
     },
     "execution_count": 85,
     "metadata": {},
     "output_type": "execute_result"
    }
   ],
   "source": [
    "grid5.best_estimator_"
   ]
  },
  {
   "cell_type": "markdown",
   "metadata": {},
   "source": [
    "## Predict\n",
    "* Accuracy=0.88\n",
    "* AUC=0.9"
   ]
  },
  {
   "cell_type": "code",
   "execution_count": 109,
   "metadata": {},
   "outputs": [
    {
     "name": "stdout",
     "output_type": "stream",
     "text": [
      "--------------------Scores of training data--------------------\n",
      "Accuracy of training data:  0.882292591394034\n",
      "AUC of training data:  0.9009539026542462\n",
      "--------------------Scores of testing data--------------------\n",
      "Accuracy of testing data:  0.8825079030558483\n",
      "AUC of testing data:  0.9003956541615111\n",
      "------------------------------------------------------------\n"
     ]
    }
   ],
   "source": [
    "adaboost = grid5.best_estimator_['adaboost']\n",
    "scores = cross_validate(adaboost, x_train_fs, y_train, cv=5, scoring=scorings)\n",
    "print('-'*20 + 'Scores of training data' + '-'*20)\n",
    "print('Accuracy of training data: ', scores['test_accuracy'].mean())\n",
    "print('AUC of training data: ', scores['test_roc_auc'].mean())\n",
    "\n",
    "adaboost.fit(x_train_fs, y_train)\n",
    "y_pred_prob = adaboost.predict_proba(x_test_fs)\n",
    "y_pred = adaboost.predict(x_test_fs)\n",
    "print('-'*20 + 'Scores of testing data' + '-'*20)\n",
    "print(\"Accuracy of testing data: \", accuracy_score(y_test, y_pred))\n",
    "print(\"AUC of testing data: \", roc_auc_score(y_test, y_pred_prob[:, 1]))\n",
    "print('-'*60)"
   ]
  },
  {
   "cell_type": "code",
   "execution_count": 110,
   "metadata": {},
   "outputs": [
    {
     "data": {
      "image/png": "[encoded data removed]",
      "text/plain": [
       "<Figure size 432x288 with 1 Axes>"
      ]
     },
     "metadata": {
      "needs_background": "light"
     },
     "output_type": "display_data"
    }
   ],
   "source": [
    "fpr, tpr, threshold = roc_curve(y_test, y_pred_prob[:, 1])\n",
    "roc_auc = auc(fpr, tpr)\n",
    "plt.title('ROC curve')\n",
    "plt.plot(fpr, tpr, 'b',label='ROC curve (area = %0.3f)' % roc_auc)\n",
    "plt.legend(loc='lower right')\n",
    "plt.plot([0,1],[0,1],'r--')\n",
    "plt.xlim([0.0, 1.0])\n",
    "plt.ylim([0.0, 1.05])\n",
    "plt.ylabel('True Positive Rate')\n",
    "plt.xlabel('False Positive Rate')\n",
    "plt.show()"
   ]
  },
  {
   "cell_type": "markdown",
   "metadata": {},
   "source": [
    "## Feature importances\n",
    "TOP 5:  \n",
    "CS Tumor Size(腫瘤大小)  \n",
    "Age at diagnosis(診斷年齡)  \n",
    "CS Extension(腫瘤擴散程度)  \n",
    "CS Mets at Dx(診斷時遠端轉移)  \n",
    "Derived AJCC Stage Group(腫瘤分期)  "
   ]
  },
  {
   "cell_type": "code",
   "execution_count": 119,
   "metadata": {},
   "outputs": [
    {
     "data": {
      "image/png": "[encoded data removed]",
      "text/plain": [
       "<Figure size 1080x720 with 1 Axes>"
      ]
     },
     "metadata": {
      "needs_background": "light"
     },
     "output_type": "display_data"
    }
   ],
   "source": [
    "plt.figure(figsize=(15,10))\n",
    "feat_importances = pd.Series(adaboost.feature_importances_, index=x_train_fs.columns).sort_values(ascending=False)\n",
    "feat_importances.plot(kind='barh')\n",
    "plt.show()"
   ]
  },
  {
   "cell_type": "markdown",
   "metadata": {},
   "source": [
    "## **結論**\n",
    "* 以Adaboost預測非小細胞肺癌患者第五年生存情形，其Accuracy=0.88，AUC=0.9。  \n",
    "* 經feature selection選出來的features共25個，如下:  \n",
    "    Sex, Age at diagnosis, Year of diagnosis, Grade, Regional Nodes Positive, CS Tumor Size, CS Extension, CS Lymph Nodes, CS Mets at Dx, Derived AJCC T, Derived AJCC M, Derived AJCC Stage Group, First malignant primary indicator, Marital Status at DX_Married, Primary Site_C341, Histologic Type ICD-O-3_others, Diagnostic Confirmation_1, Diagnostic Confirmation_5, CS Site-Specific Factor 1_988, RX Summ—Surg Prim Site_0, RX Summ—Surg Prim Site_10-19, RX Summ—Surg Prim Site_20-29, Reason for no surgery_0, Race recode (W, B, AI, API)_Black, Race recode (W, B, AI, API)_others\n",
    "* 另從四份醫學相關文獻中找了分別找了四組非小細胞肺癌的預後因子，\n",
    "    * 除了Derived AJCC N之外，其餘的特徵皆出現在上述25個機器學習所挑特徵中。\n",
    "    * 機器學習所挑特徵亦挑出文獻中沒有出現的特徵:   \n",
    "        Year of diagnosis, Regional Nodes Positive, CS Extension, CS Lymph Nodes, CS Mets at Dx, First malignant primary indicator, Primary Site, Diagnostic Confirmation, CS Site-Specific Factor 1, RX Summ—Surg Prim Site, Reason for no surgery"
   ]
  }
 ],
 "metadata": {
  "environment": {
   "name": "common-cpu.m46",
   "type": "gcloud",
   "uri": "gcr.io/deeplearning-platform-release/base-cpu:m46"
  },
  "kernelspec": {
   "display_name": "Python 3",
   "language": "python",
   "name": "python3"
  },
  "language_info": {
   "codemirror_mode": {
    "name": "ipython",
    "version": 3
   },
   "file_extension": ".py",
   "mimetype": "text/x-python",
   "name": "python",
   "nbconvert_exporter": "python",
   "pygments_lexer": "ipython3",
   "version": "3.7.6"
  }
 },
 "nbformat": 4,
 "nbformat_minor": 4
}
